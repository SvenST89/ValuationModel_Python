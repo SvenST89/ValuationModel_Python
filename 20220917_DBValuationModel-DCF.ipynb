{
 "cells": [
  {
   "cell_type": "markdown",
   "id": "47c44064-52f8-451c-9cb2-bc85a18497f0",
   "metadata": {},
   "source": [
    "# Building a Corporate Valuation Model with Python Pt. II: DCF Method"
   ]
  },
  {
   "cell_type": "markdown",
   "id": "d804b9bd-da01-44cd-94f6-43fc9b5643df",
   "metadata": {},
   "source": [
    "Having established the database, I will build a corporate valuation model identical to the methods given in [Brigham & Houston (\"Fundamentals of Financial Management\", 6th ed., 2009, South Western Cengage Learning, pp. 288 and pp. 306)](https://www.valorebooks.com/textbooks/fundamentals-of-financial-management-concise-edition-with-thomson-one-business-school-edition-6th-edition/9780324664553). Additionally, one can check the [this source](https://corporatefinanceinstitute.com/resources/knowledge/modeling/dcf-model-training-free-guide/), too, for further insights on the topic of corporate valuation."
   ]
  },
  {
   "cell_type": "markdown",
   "id": "36f3e2da-d245-4770-b051-328165004df3",
   "metadata": {},
   "source": [
    "Before starting the analysis we need some general assumptions and information on data in order to implement the DCF method for company valuation. We need the _after-tax cost of debt_ for the specific company as well as the _cost of its equity_. As for the debt it is quite cumbersome to get the individual firm´s cost of debt - either we would need to check the annual reports of that company or be lucky and find a free platform that offers such an information for any possible company. Both methods are difficult to implement in a dynamic and automated manner within a python script; I would need to build an extra scraper just to retrieve such an information for any possible firm. And I barely believe that there is a free source for that.\n",
    "\n",
    "<u><h4><font color=\"#ab4e52\">Cost of Debt Estimate</font></h4></u>\n",
    "\n",
    "Hence, I will **use the [central bank information on interest rates](https://sdw.ecb.europa.eu/browse.do?node=bbn2883) of new loans (>1 EURm) for non-financial corporations** and retrieve interest rate time series data from the `ECB SDM 2.1 RESTful web service` through making a **http get request**. Basically, it is like a function replicating the [sdw_api python package from the ECB](https://pypi.org/project/sdw-api/), but is more flexible in the sense that it does not throw an error for the retrieved data if different time series are imported, which was the case for the api package.\n",
    "\n",
    "The standard entrypoint for the **ECB SDMX 2.1 RESTful web service** is `https://sdw-wsrest.ecb.europa.eu/service/data/`.<br>\n",
    "We then make an empty list in which we will store each individual dataframe which we will have received from the https get request on basis of the time series keys in 'keys_list'. Specifically, I will use the **key 'MIR.M.U2.B.A2A.O.R.1.2240.EUR.N'** which identifies the data on `Bank interest rates - loans to corporations of over EUR 1M with an IRF period of over five & up to ten years (new business) - euro area`. Nonetheless, I will write a function that is general enough to iterate across a list of keys and get an average estimate of the interest rate level.\n",
    "\n",
    "In essence, the function `get_ir_data()` is general enough in order to retrieve ECB data for any key in the `key_list` (e.g. also keys for the yield curve or exchange rates).\n",
    "\n",
    "<u><h4><font color=\"#ab4e52\">Cost of Equity Estimate</font></h4></u>\n",
    "\n",
    "As for the cost of equity I will follow the <span style=\"color:orange\"><b>CAPM Approach</b></span>, i.e. use the current ECB interest rate for main refinancing operations (1.25%, 2022/09/17) as **risk-free rate** and calculate the **annualized market risk premium** from the historical price data of the respective stock index, in our case the 'DAX'. The **beta coefficient** of the individual company is retrieved from the `FMP API` while we use `yahoo finance API` for **historical price data of the respective index**."
   ]
  },
  {
   "cell_type": "markdown",
   "id": "021d4c01-5694-4add-97e1-cec96e56f61f",
   "metadata": {},
   "source": [
    "### Preliminary Definitions"
   ]
  },
  {
   "cell_type": "code",
   "execution_count": 1,
   "id": "f461c17c-5d9d-4eb1-a26d-8490efa10650",
   "metadata": {},
   "outputs": [],
   "source": [
    "#=============SET UP LOGGING ======================#\n",
    "import logging\n",
    "import sys\n",
    "\n",
    "logger=logging.getLogger()\n",
    "formatter = logging.Formatter('%(asctime)s - %(name)s - %(lineno)s - %(levelname)s - %(message)s')\n",
    "logger.setLevel(logging.DEBUG)\n",
    "\n",
    "# set logging handler in file\n",
    "fileHandler=logging.FileHandler(filename=\"log/cvm_main.log\", mode='w')\n",
    "fileHandler.setFormatter(formatter)\n",
    "fileHandler.setLevel(logging.DEBUG)\n",
    "logger.addHandler(fileHandler)\n",
    "\n",
    "# set logging handler in console\n",
    "consoleHandler=logging.StreamHandler(sys.stdout)\n",
    "consoleHandler.setFormatter(formatter)\n",
    "consoleHandler.setLevel(logging.DEBUG)\n",
    "logger.addHandler(consoleHandler)\n",
    "#===================================================#"
   ]
  },
  {
   "cell_type": "code",
   "execution_count": 2,
   "id": "47e5b42e-a953-4d95-a1e1-c901f4cdf2f6",
   "metadata": {},
   "outputs": [
    {
     "name": "stdout",
     "output_type": "stream",
     "text": [
      "2022-10-09 00:57:53,729 - numexpr.utils - 159 - INFO - NumExpr defaulting to 4 threads.\n"
     ]
    }
   ],
   "source": [
    "#--- PRELIMINARY IMPORTS -------------------------------------#\n",
    "import pandas as pd\n",
    "import yfinance as yf"
   ]
  },
  {
   "cell_type": "code",
   "execution_count": 3,
   "id": "20ed079e-55a9-4495-bc91-57785a09bcd2",
   "metadata": {},
   "outputs": [],
   "source": [
    "# define which company we want to focus on - This parameter is essential for the WebAPP we might build in the future --> with a dropdown value which is assigned to this variable\n",
    "# such that the user can choose many different companies\n",
    "# Possible companies:\n",
    "# ADIDAS AG, AIRBUS SE, ALLIANZ SE, BASF SE, \n",
    "# BAYER AG, BEIERSDORF AG O.N., BAYERISCHE MOTOREN WERKE AG, BRENNTAG SE NA O.N., \n",
    "# CONTINENTAL AG, COVESTRO AG, Delivery Hero SE Namens-Aktien, DEUTSCHE BANK AG, \n",
    "# DEUTSCHE BOERSE NA O.N., DEUTSCHE POST AG, DEUTSCHE TELEKOM AG, E.ON SE, FRESENIUS MEDICAL CARE AG & CO, \n",
    "# FRESENIUS SE&CO KGAA, HEIDELBERGCEMENT AG O.N., HELLOFRESH SE INH O.N., HENKEL AG&CO. KGAA, \n",
    "# INFINEON TECHNOLOGIES AG, LINDE PLC EO 0,001, MERCEDES-BENZ GROUP, MERCK KGAA, \n",
    "# MTU AERO ENGINES NA O.N., MUENCHENER RUECKVERSICHERUNGS A, PORSCHE AUTOM.HLDG VZO,\n",
    "# PUMA SE, Qiagen N.V., RWE AG INH O.N., SAP SE, SARTORIUS AG VZO O.N., SIEMENS AG, \n",
    "# SIEMENS ENERGY AG NA O.N., SIEMENS HEALTH.AG NA O.N., SYMRISE AG INH. O.N., VOLKSWAGEN AG, VONOVIA SE NA O.N., ZALANDO SE\n",
    "\n",
    "company='E.ON SE'"
   ]
  },
  {
   "cell_type": "markdown",
   "id": "7fd7c9f6-9971-4f75-b937-00c526baeeeb",
   "metadata": {},
   "source": [
    "### Calculate After-Tax Debt Cost"
   ]
  },
  {
   "cell_type": "code",
   "execution_count": 4,
   "id": "06697877-850e-4f14-a909-70ebde3ae197",
   "metadata": {},
   "outputs": [],
   "source": [
    "# To make web requests at the ECB SDMX 2.1 RESTful web service\n",
    "import requests\n",
    "\n",
    "# For use of the ECB API\n",
    "#from sdw_api import SDW_API\n",
    "\n",
    "# Standard libs for data manipulation\n",
    "import numpy as np\n",
    "import io\n",
    "import datetime\n",
    "from datetime import date\n",
    "import re\n",
    "import ValuationModel\n",
    "from ValuationModel.assist_functions import get_ir_data\n",
    "from ValuationModel.assist_functions import get_database_findata_year\n",
    "from ValuationModel.assist_functions import get_database_findata\n",
    "from ValuationModel.assist_functions import get_company_data\n",
    "from ValuationModel.fmp import get_index_table\n",
    "from ValuationModel.fmp import get_beta\n",
    "from config.api import MY_API_KEY"
   ]
  },
  {
   "cell_type": "code",
   "execution_count": 5,
   "id": "6a4b5097-5b89-4230-af17-5dc19ac1368e",
   "metadata": {},
   "outputs": [],
   "source": [
    "# Key List\n",
    "keys_list=pd.read_excel('assets/keys_IR.xlsx')['Keys'].tolist()"
   ]
  },
  {
   "cell_type": "code",
   "execution_count": 6,
   "id": "8c468cde-a5dc-40a2-adb7-77c8d5f2716d",
   "metadata": {},
   "outputs": [
    {
     "name": "stdout",
     "output_type": "stream",
     "text": [
      "2022-10-09 00:58:02,026 - urllib3.connectionpool - 1001 - DEBUG - Starting new HTTPS connection (1): sdw-wsrest.ecb.europa.eu:443\n",
      "2022-10-09 00:58:02,247 - urllib3.connectionpool - 456 - DEBUG - https://sdw-wsrest.ecb.europa.eu:443 \"GET /service/data/MIR/M.U2.B.A2A.O.R.1.2240.EUR.N?format=genericdata&startPeriod=2022-01-01&endPeriod=2022-10-09 HTTP/1.1\" 200 None\n"
     ]
    },
    {
     "data": {
      "text/html": [
       "<div>\n",
       "<style scoped>\n",
       "    .dataframe tbody tr th:only-of-type {\n",
       "        vertical-align: middle;\n",
       "    }\n",
       "\n",
       "    .dataframe tbody tr th {\n",
       "        vertical-align: top;\n",
       "    }\n",
       "\n",
       "    .dataframe thead th {\n",
       "        text-align: right;\n",
       "    }\n",
       "</style>\n",
       "<table border=\"1\" class=\"dataframe\">\n",
       "  <thead>\n",
       "    <tr style=\"text-align: right;\">\n",
       "      <th></th>\n",
       "      <th>OBS_VALUE</th>\n",
       "    </tr>\n",
       "    <tr>\n",
       "      <th>TIME_PERIOD</th>\n",
       "      <th></th>\n",
       "    </tr>\n",
       "  </thead>\n",
       "  <tbody>\n",
       "    <tr>\n",
       "      <th>2022-01-01</th>\n",
       "      <td>1.25</td>\n",
       "    </tr>\n",
       "    <tr>\n",
       "      <th>2022-02-01</th>\n",
       "      <td>1.50</td>\n",
       "    </tr>\n",
       "    <tr>\n",
       "      <th>2022-03-01</th>\n",
       "      <td>1.58</td>\n",
       "    </tr>\n",
       "    <tr>\n",
       "      <th>2022-04-01</th>\n",
       "      <td>1.82</td>\n",
       "    </tr>\n",
       "    <tr>\n",
       "      <th>2022-05-01</th>\n",
       "      <td>1.89</td>\n",
       "    </tr>\n",
       "    <tr>\n",
       "      <th>2022-06-01</th>\n",
       "      <td>2.16</td>\n",
       "    </tr>\n",
       "    <tr>\n",
       "      <th>2022-07-01</th>\n",
       "      <td>2.26</td>\n",
       "    </tr>\n",
       "    <tr>\n",
       "      <th>2022-08-01</th>\n",
       "      <td>2.35</td>\n",
       "    </tr>\n",
       "  </tbody>\n",
       "</table>\n",
       "</div>"
      ],
      "text/plain": [
       "             OBS_VALUE\n",
       "TIME_PERIOD           \n",
       "2022-01-01        1.25\n",
       "2022-02-01        1.50\n",
       "2022-03-01        1.58\n",
       "2022-04-01        1.82\n",
       "2022-05-01        1.89\n",
       "2022-06-01        2.16\n",
       "2022-07-01        2.26\n",
       "2022-08-01        2.35"
      ]
     },
     "execution_count": 6,
     "metadata": {},
     "output_type": "execute_result"
    }
   ],
   "source": [
    "# Set start period for time series as a string value, e.g., '2019-12-01' \n",
    "start='2022-01-01'\n",
    "interest_df=get_ir_data(keys_list, start)\n",
    "interest_df"
   ]
  },
  {
   "cell_type": "code",
   "execution_count": 7,
   "id": "1690ba7c-2930-436b-8dce-136ee9ab89e9",
   "metadata": {},
   "outputs": [
    {
     "data": {
      "text/plain": [
       "0.019781125"
      ]
     },
     "execution_count": 7,
     "metadata": {},
     "output_type": "execute_result"
    }
   ],
   "source": [
    "debt_cost=(interest_df['OBS_VALUE'].iloc[-1])/100\n",
    "# German Corporate Tax rate (incl. solidarity surcharge) = 15.825%\n",
    "tax=0.15825\n",
    "at_debt_cost=debt_cost*(1-tax)\n",
    "at_debt_cost"
   ]
  },
  {
   "cell_type": "markdown",
   "id": "24c08235-6997-48a9-8286-05aa844bcd8d",
   "metadata": {},
   "source": [
    "### Calculate the Market Risk Premium (MRP)"
   ]
  },
  {
   "cell_type": "code",
   "execution_count": 8,
   "id": "eba335af-0c0f-40b4-8b5d-6a38e96db00a",
   "metadata": {},
   "outputs": [
    {
     "name": "stdout",
     "output_type": "stream",
     "text": [
      "2022-10-09 00:58:07,833 - urllib3.connectionpool - 1001 - DEBUG - Starting new HTTPS connection (1): financialmodelingprep.com:443\n",
      "2022-10-09 00:58:08,372 - urllib3.connectionpool - 456 - DEBUG - https://financialmodelingprep.com:443 \"GET /api/v3/quotes/index?apikey=b8f5862cd32c671e67c7ebcbd122f8eb HTTP/1.1\" 200 None\n"
     ]
    }
   ],
   "source": [
    "index_table=get_index_table()"
   ]
  },
  {
   "cell_type": "code",
   "execution_count": 9,
   "id": "d45dcc03-60dc-4cc9-a69f-e747f041c718",
   "metadata": {},
   "outputs": [],
   "source": [
    "index_table.to_csv(\"data/index_list_overview.csv\")"
   ]
  },
  {
   "cell_type": "code",
   "execution_count": 10,
   "id": "7cb42167-30d7-48e3-aa0b-e24018835055",
   "metadata": {},
   "outputs": [],
   "source": [
    "#'^GSPC', '^FTSE', '^NDX', '^RUA', '^NYA'] # Dax Performance40, S&P500, FTSE100, Nasdaq100, Dow Jones"
   ]
  },
  {
   "cell_type": "code",
   "execution_count": 47,
   "id": "1026cde5-1afe-4b33-a823-e3c308f66243",
   "metadata": {},
   "outputs": [
    {
     "name": "stdout",
     "output_type": "stream",
     "text": [
      "2022-10-09 01:09:12,244 - urllib3.connectionpool - 1001 - DEBUG - Starting new HTTPS connection (1): query2.finance.yahoo.com:443\n",
      "2022-10-09 01:09:12,398 - urllib3.connectionpool - 456 - DEBUG - https://query2.finance.yahoo.com:443 \"GET /v8/finance/chart/%5EGDAXI?period1=1262300400&period2=1665266400&interval=1d&includePrePost=False&events=div%2Csplits HTTP/1.1\" 200 None\n",
      "The market risk premium (MRP):\n",
      "-------------------------------\n",
      " 0.04411611493622121\n"
     ]
    }
   ],
   "source": [
    "# Retrieve Data on the DAX Performance Index (i.e. the 40 stocks which I have in my database)\n",
    "dax_perf = yf.Ticker('^GDAXI')\n",
    "# Get most recent week’s minute data\n",
    "today = date.today()        # get the date of today\n",
    "today_formatted = today.strftime(\"%Y-%m-%d\")\n",
    "# As the most historical data we have in our PostgreSQL database is at most back until FY2018 we set the start period to '2018-01-01' --> ignore! This resulted in a negative MRP!\n",
    "dax_perf_prices = dax_perf.history(start='2010-01-01', end=today_formatted)\n",
    "dax_perf_closep=dax_perf_prices[['Close']]\n",
    "#--- ANNUALIZE THE DAILY RETURNS --------------------------------------------------------------#\n",
    "days=len(dax_perf_closep)\n",
    "# Total Return over the period\n",
    "total_return=(dax_perf_closep.iloc[-1] - dax_perf_closep.iloc[0]) / dax_perf_closep.iloc[0]\n",
    "annualized_return=((1+total_return)**(252/days))-1\n",
    "#--- RISK-FREE RATE = ECB MAIN REFINANCING RATE -----------------------------------------------#\n",
    "rfr=0.0125\n",
    "mrp=float(annualized_return-rfr)\n",
    "print(\"The market risk premium (MRP):\\n-------------------------------\\n\",mrp)"
   ]
  },
  {
   "cell_type": "markdown",
   "id": "2f6345ad-2810-4137-9ec9-146a426a94eb",
   "metadata": {},
   "source": [
    "### Retrieve Fundamental Financial Data Tables from our PostgreSQL Database (see Pt. I)"
   ]
  },
  {
   "cell_type": "code",
   "execution_count": 12,
   "id": "46574e3e-05f0-4ea1-9d92-5f903187395a",
   "metadata": {},
   "outputs": [],
   "source": [
    "#---- DATABASE MANAGEMENT TOOLS --------------#\n",
    "from sqlalchemy import create_engine\n",
    "import psycopg2\n",
    "import psycopg2.extras as extras\n",
    "\n",
    "#---- DATA MANIPULATION TOOLS ----------------#\n",
    "import pandas_datareader as dr\n",
    "\n",
    "#---- OWN MODULE IMPORTS --------------------#\n",
    "import config.pw"
   ]
  },
  {
   "cell_type": "code",
   "execution_count": 13,
   "id": "778b7bbe-ea25-4e3d-8a84-16088a3cd6a6",
   "metadata": {},
   "outputs": [],
   "source": [
    "# Set necessary url variables for the sqlalchemy create_engine() method.\n",
    "user='svenst89' # or default user 'postgres'\n",
    "password=config.pw.password # edit the password if you switch to the default user 'postgres'; I setup different passwords.\n",
    "host='localhost'\n",
    "port='5433'\n",
    "database='fundamentalsdb'"
   ]
  },
  {
   "cell_type": "code",
   "execution_count": 26,
   "id": "62069bc2-2fd9-4b9e-a6c0-05e7f851f95a",
   "metadata": {},
   "outputs": [
    {
     "name": "stdout",
     "output_type": "stream",
     "text": [
      "You have successfully created an engine object for your Postgres DB at localhost for user svenst89!\n"
     ]
    }
   ],
   "source": [
    "# Create an engine object as medium for database exchange with PostgreSQL\n",
    "def run_engine():\n",
    "    return create_engine(f\"postgresql://{user}:{password}@{host}:{port}/{database}\")\n",
    "if __name__=='__main__':\n",
    "    try:\n",
    "        global engine\n",
    "        engine=run_engine()\n",
    "        print(f\"You have successfully created an engine object for your Postgres DB at {host} for user {user}!\")\n",
    "    except Exception as ex:\n",
    "        print(\"Sorry your engine has not been created. Some exception has occurred. Please check and try it again!\\n\", ex)"
   ]
  },
  {
   "cell_type": "markdown",
   "id": "08baa96c-20ff-4700-a0fe-3de71ec6c79e",
   "metadata": {},
   "source": [
    "The following function retrieves our previously stored fundamental financial statement data from our **PostgreSQL** database with a simply _SQL query_ with a `WHERE` constraint. Later on we can use a for-loop to iterate across the companies, if we want to."
   ]
  },
  {
   "cell_type": "code",
   "execution_count": 27,
   "id": "d87dfc29-34b0-4106-bf31-ec192ede4b85",
   "metadata": {},
   "outputs": [
    {
     "name": "stdout",
     "output_type": "stream",
     "text": [
      "You have successfully retrieved the financial statement data for company 'E.ON SE'!\n"
     ]
    }
   ],
   "source": [
    "#engine=create_engine(f\"postgresql://{user}:{password}@{host}:{port}/{database}\")\n",
    "bs, incs, cs = get_database_findata(company, engine)"
   ]
  },
  {
   "cell_type": "code",
   "execution_count": 28,
   "id": "40452c9e-4558-41c0-ae37-e73f79212722",
   "metadata": {},
   "outputs": [],
   "source": [
    "bs=bs.sort_values(by=['date'], ascending=False)"
   ]
  },
  {
   "cell_type": "code",
   "execution_count": 29,
   "id": "264f8564-8e4a-4c26-918d-59c0ca7506ef",
   "metadata": {},
   "outputs": [],
   "source": [
    "# Retrieve a specific year\n",
    "grouped = bs.groupby(bs['date'])\n",
    "bs_2021=grouped.get_group('2021-12-31')"
   ]
  },
  {
   "cell_type": "code",
   "execution_count": 30,
   "id": "98a1a624-90ca-4337-b4f0-a8043c14bf8a",
   "metadata": {},
   "outputs": [],
   "source": [
    "#================= REVISE BALANCE SHEET \n",
    "# Delete all rows containing string data and no number values\n",
    "# define values in the column 'item' according to which the rows shall be dropped\n",
    "values = ['link', 'finalLink', 'calendarYear', 'period', 'symbol', 'reportedCurrency', 'cik', 'fillingDate', 'acceptedDate']\n",
    "# drop rows that contain any value in the list\n",
    "bs_2021 = bs_2021[bs_2021.item.isin(values) == False]"
   ]
  },
  {
   "cell_type": "code",
   "execution_count": 31,
   "id": "ea0e4b0d-1367-40ea-b286-283baf7dd092",
   "metadata": {},
   "outputs": [
    {
     "name": "stderr",
     "output_type": "stream",
     "text": [
      "C:\\Users\\svens\\AppData\\Local\\Temp\\ipykernel_8472\\1955883115.py:2: SettingWithCopyWarning: \n",
      "A value is trying to be set on a copy of a slice from a DataFrame.\n",
      "Try using .loc[row_indexer,col_indexer] = value instead\n",
      "\n",
      "See the caveats in the documentation: https://pandas.pydata.org/pandas-docs/stable/user_guide/indexing.html#returning-a-view-versus-a-copy\n",
      "  bs['value'] = bs['value'].astype(float)\n"
     ]
    }
   ],
   "source": [
    "bs = bs[bs.item.isin(values) == False]\n",
    "bs['value'] = bs['value'].astype(float)"
   ]
  },
  {
   "cell_type": "code",
   "execution_count": 32,
   "id": "3ce9bc6a-7974-40d6-bb04-c9d2bc5b5397",
   "metadata": {},
   "outputs": [],
   "source": [
    "#================= REVISE INCOME STATEMENT\n",
    "incs=incs.sort_values(by=['date'], ascending=False)\n",
    "incs = incs[incs.item.isin(values) == False]\n",
    "incs['value'] = incs['value'].astype(float)\n",
    "\n",
    "# Retrieve a specific year\n",
    "grouped = incs.groupby(incs['date'])\n",
    "incs_2021=grouped.get_group('2021-12-31')\n",
    "incs_2021 = incs_2021[incs_2021.item.isin(values) == False]"
   ]
  },
  {
   "cell_type": "markdown",
   "id": "74e648d3-b95d-462f-9c00-467adcdbfedc",
   "metadata": {},
   "source": [
    "**<u>A brief Note on the Quality of the Data delivered by Financial Modeling Prep (FMP) API</u>**\n",
    "\n",
    "As for the quality of the data, I made a rough cross-check for the results that `FMP` is offering for **E.ON SE** in the **FY2021**: `FMP` reports a negative **Operating Income** of -11.6 EURbn, whereas E.ON SE reported in its Annual Report 2021 an EBIT (\"Ergebnis [...] vor Finanzergebnis und Steuern\") of +6.5 EURbn. I checked the Notes of the AR and found that E.ON SE reported in its EBIT special items, i.e. a positive one-off effect, of +45 EURbn from derivative financial income, which does clearly not belong to the usual core business of E.ON SE! If we were to subtract this positive one-off earnings effect \"as-if\" it would have not incurred, focusing merely on the real operating activities, the EBIT in the Annual Report would not look as \"rosy\" as presented initially.\n",
    "\n",
    "Assuming that there are other negative items that should have been added back, I trust the values given by `FMP` that the **Operating Income** was, indeed, negative. So, for my further analysis, I will focus on the 'Operating Income' and/or 'EBITDA' figures as presented by **FMP**."
   ]
  },
  {
   "cell_type": "code",
   "execution_count": 51,
   "id": "f59e7f8f-8885-40d7-b561-2edbc2e63f16",
   "metadata": {},
   "outputs": [
    {
     "name": "stdout",
     "output_type": "stream",
     "text": [
      "You have successfully retrieved the financial statement data for company 'E.ON SE' for the Fiscal Year '2021-12-31'!\n"
     ]
    }
   ],
   "source": [
    "# For demonstration purposes get Balance Sheet for one year\n",
    "#engine=create_engine(f\"postgresql://{user}:{password}@{host}:{port}/{database}\")\n",
    "bs_y, incs_y, cs_y=get_database_findata_year(company, 2021, 12, 31, engine)\n",
    "#bs_y"
   ]
  },
  {
   "cell_type": "code",
   "execution_count": 34,
   "id": "d11ef946-884b-46bb-a978-65beb46d121c",
   "metadata": {},
   "outputs": [
    {
     "name": "stdout",
     "output_type": "stream",
     "text": [
      "You have successfully retrieved the company data for company '   id shortname   symbol               industry     sector currency  bs_id  is_id  cs_id\n",
      "0   3   E.ON SE  EOAN.DE  Utilities—Diversified  Utilities      EUR   2967   2071   2183'!\n"
     ]
    }
   ],
   "source": [
    "#engine=create_engine(f\"postgresql://{user}:{password}@{host}:{port}/{database}\")\n",
    "comp=get_company_data(company, engine)\n",
    "ticker=comp['symbol'].values[0]"
   ]
  },
  {
   "cell_type": "code",
   "execution_count": 49,
   "id": "6945f46a-ac40-49ff-89a5-2b589897619b",
   "metadata": {},
   "outputs": [
    {
     "name": "stdout",
     "output_type": "stream",
     "text": [
      "You have successfully retrieved the financial statement data for company 'E.ON SE' for the Fiscal Year '2021-12-31'!\n",
      "2022-10-09 01:09:36,779 - urllib3.connectionpool - 1001 - DEBUG - Starting new HTTPS connection (1): financialmodelingprep.com:443\n",
      "2022-10-09 01:09:37,320 - urllib3.connectionpool - 456 - DEBUG - https://financialmodelingprep.com:443 \"GET /api/v3/profile/EOAN.DE?apikey=b8f5862cd32c671e67c7ebcbd122f8eb HTTP/1.1\" 200 None\n"
     ]
    }
   ],
   "source": [
    "wacc=get_wacc(company, 2021, 12, 31, rfr, mrp, at_debt_cost, engine)"
   ]
  },
  {
   "cell_type": "code",
   "execution_count": 50,
   "id": "74e821ee-6a30-4060-8b83-2af79a1806c3",
   "metadata": {},
   "outputs": [
    {
     "data": {
      "text/plain": [
       "0.02231975340897803"
      ]
     },
     "execution_count": 50,
     "metadata": {},
     "output_type": "execute_result"
    }
   ],
   "source": [
    "wacc"
   ]
  },
  {
   "cell_type": "code",
   "execution_count": null,
   "id": "64ba8ea8-682e-4ce2-b3ee-16b7f9478515",
   "metadata": {},
   "outputs": [],
   "source": []
  },
  {
   "cell_type": "code",
   "execution_count": null,
   "id": "1d116e95-21fc-4352-972e-c23f28550540",
   "metadata": {},
   "outputs": [],
   "source": []
  },
  {
   "cell_type": "code",
   "execution_count": null,
   "id": "9f97e39b-fe13-4e02-bec8-f6d443362438",
   "metadata": {},
   "outputs": [],
   "source": []
  },
  {
   "cell_type": "code",
   "execution_count": null,
   "id": "e226e7e8-180d-4941-a0b6-1d165f408c1e",
   "metadata": {},
   "outputs": [],
   "source": []
  },
  {
   "cell_type": "code",
   "execution_count": null,
   "id": "2fc720a3-c077-420d-898a-2b2a3df5d94c",
   "metadata": {},
   "outputs": [],
   "source": []
  }
 ],
 "metadata": {
  "kernelspec": {
   "display_name": "Python 3 (ipykernel)",
   "language": "python",
   "name": "python3"
  },
  "language_info": {
   "codemirror_mode": {
    "name": "ipython",
    "version": 3
   },
   "file_extension": ".py",
   "mimetype": "text/x-python",
   "name": "python",
   "nbconvert_exporter": "python",
   "pygments_lexer": "ipython3",
   "version": "3.9.12"
  }
 },
 "nbformat": 4,
 "nbformat_minor": 5
}
