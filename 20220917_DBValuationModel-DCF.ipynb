{
 "cells": [
  {
   "cell_type": "markdown",
   "id": "47c44064-52f8-451c-9cb2-bc85a18497f0",
   "metadata": {},
   "source": [
    "# Building a Corporate Valuation Model with Python Pt. II: DCF Method"
   ]
  },
  {
   "cell_type": "markdown",
   "id": "d804b9bd-da01-44cd-94f6-43fc9b5643df",
   "metadata": {},
   "source": [
    "Having established the database, I will build a corporate valuation model identical to the methods given in [Brigham & Houston (\"Fundamentals of Financial Management\", 6th ed., 2009, South Western Cengage Learning, pp. 288 and pp. 306)](https://www.valorebooks.com/textbooks/fundamentals-of-financial-management-concise-edition-with-thomson-one-business-school-edition-6th-edition/9780324664553). Additionally, one can check the [this source](https://corporatefinanceinstitute.com/resources/knowledge/modeling/dcf-model-training-free-guide/), too, for further insights on the topic of corporate valuation."
   ]
  },
  {
   "cell_type": "markdown",
   "id": "36f3e2da-d245-4770-b051-328165004df3",
   "metadata": {},
   "source": [
    "Before starting the analysis we need some general assumptions and information on data in order to implement the DCF method for company valuation. We need the _after-tax cost of debt_ for the specific company as well as the _cost of its equity_. As for the debt it is quite cumbersome to get the individual firm´s cost of debt - either we would need to check the annual reports of that company or be lucky and find a free platform that offers such an information for any possible company. Both methods are difficult to implement in a dynamic and automated manner within a python script; I would need to build an extra scraper just to retrieve such an information for any possible firm. And I barely believe that there is a free source for that.\n",
    "\n",
    "<u><h4><font color=\"#ab4e52\">Cost of Debt Estimate</font></h4></u>\n",
    "\n",
    "Hence, I will **use the [central bank information on interest rates](https://sdw.ecb.europa.eu/browse.do?node=bbn2883) of new loans (>1 EURm) for non-financial corporations** and retrieve interest rate time series data from the `ECB SDM 2.1 RESTful web service` through making a **http get request**. Basically, it is like a function replicating the [sdw_api python package from the ECB](https://pypi.org/project/sdw-api/), but is more flexible in the sense that it does not throw an error for the retrieved data if different time series are imported, which was the case for the api package.\n",
    "\n",
    "The standard entrypoint for the **ECB SDMX 2.1 RESTful web service** is `https://sdw-wsrest.ecb.europa.eu/service/data/`.<br>\n",
    "We then make an empty list in which we will store each individual dataframe which we will have received from the https get request on basis of the time series keys in 'keys_list'. Specifically, I will use the **key 'MIR.M.U2.B.A2A.O.R.1.2240.EUR.N'** which identifies the data on `Bank interest rates - loans to corporations of over EUR 1M with an IRF period of over five & up to ten years (new business) - euro area`. Nonetheless, I will write a function that is general enough to iterate across a list of keys and get an average estimate of the interest rate level.\n",
    "\n",
    "In essence, the function `get_ir_data()` is general enough in order to retrieve ECB data for any key in the `key_list` (e.g. also keys for the yield curve or exchange rates).\n",
    "\n",
    "<u><h4><font color=\"#ab4e52\">Cost of Equity Estimate</font></h4></u>\n",
    "\n",
    "As for the cost of equity I will follow the <span style=\"color:orange\"><b>CAPM Approach</b></span>, i.e. use the current ECB interest rate for main refinancing operations (1.25%, 2022/09/17) as **risk-free rate** and calculate the **annualized market risk premium** from the historical price data of the respective stock index, in our case the 'DAX'. The **beta coefficient** of the individual company is retrieved from the `FMP API` while we use `yahoo finance API` for **historical price data of the respective index**."
   ]
  },
  {
   "cell_type": "markdown",
   "id": "021d4c01-5694-4add-97e1-cec96e56f61f",
   "metadata": {},
   "source": [
    "### Preliminary Definitions"
   ]
  },
  {
   "cell_type": "code",
   "execution_count": 1,
   "id": "f461c17c-5d9d-4eb1-a26d-8490efa10650",
   "metadata": {},
   "outputs": [],
   "source": [
    "#=============SET UP LOGGING ======================#\n",
    "import logging\n",
    "import sys\n",
    "import matplotlib.pyplot as plt\n",
    "# specifically for pyplot: https://stackoverflow.com/questions/56618739/matplotlib-throws-warning-message-because-of-findfont-python\n",
    "logging.getLogger('matplotlib').disabled = True\n",
    "\n",
    "logger=logging.getLogger()\n",
    "formatter = logging.Formatter('%(asctime)s - %(name)s - %(lineno)s - %(levelname)s - %(message)s')\n",
    "logger.setLevel(logging.DEBUG)\n",
    "\n",
    "# set logging handler in file\n",
    "fileHandler=logging.FileHandler(filename=\"log/cvm_main.log\", mode='w')\n",
    "fileHandler.setFormatter(formatter)\n",
    "fileHandler.setLevel(logging.DEBUG)\n",
    "logger.addHandler(fileHandler)\n",
    "\n",
    "# set logging handler in console\n",
    "consoleHandler=logging.StreamHandler(sys.stdout)\n",
    "consoleHandler.setFormatter(formatter)\n",
    "consoleHandler.setLevel(logging.DEBUG)\n",
    "logger.addHandler(consoleHandler)\n",
    "#===================================================#"
   ]
  },
  {
   "cell_type": "code",
   "execution_count": 2,
   "id": "47e5b42e-a953-4d95-a1e1-c901f4cdf2f6",
   "metadata": {},
   "outputs": [
    {
     "name": "stdout",
     "output_type": "stream",
     "text": [
      "2022-12-13 21:50:01,005 - numexpr.utils - 157 - INFO - NumExpr defaulting to 4 threads.\n"
     ]
    }
   ],
   "source": [
    "#--- PRELIMINARY IMPORTS -------------------------------------#\n",
    "import pandas as pd\n",
    "import yfinance as yf"
   ]
  },
  {
   "cell_type": "code",
   "execution_count": 3,
   "id": "20ed079e-55a9-4495-bc91-57785a09bcd2",
   "metadata": {},
   "outputs": [],
   "source": [
    "# define which company we want to focus on - This parameter is essential for the WebAPP we might build in the future --> with a dropdown value which is assigned to this variable\n",
    "# such that the user can choose many different companies\n",
    "# Possible companies:\n",
    "# ADIDAS AG, AIRBUS SE, ALLIANZ SE, BASF SE, \n",
    "# BAYER AG, BEIERSDORF AG O.N., BAYERISCHE MOTOREN WERKE AG, BRENNTAG SE NA O.N., \n",
    "# CONTINENTAL AG, COVESTRO AG, Delivery Hero SE Namens-Aktien, DEUTSCHE BANK AG, \n",
    "# DEUTSCHE BOERSE NA O.N., DEUTSCHE POST AG, DEUTSCHE TELEKOM AG, E.ON SE, FRESENIUS MEDICAL CARE AG & CO, \n",
    "# FRESENIUS SE&CO KGAA, HEIDELBERGCEMENT AG O.N., HELLOFRESH SE INH O.N., HENKEL AG&CO. KGAA, \n",
    "# INFINEON TECHNOLOGIES AG, LINDE PLC EO 0,001, MERCEDES-BENZ GROUP, MERCK KGAA, \n",
    "# MTU AERO ENGINES NA O.N., MUENCHENER RUECKVERSICHERUNGS A, PORSCHE AUTOM.HLDG VZO,\n",
    "# PUMA SE, Qiagen N.V., RWE AG INH O.N., SAP SE, SARTORIUS AG VZO O.N., SIEMENS AG, \n",
    "# SIEMENS ENERGY AG NA O.N., SIEMENS HEALTH.AG NA O.N., SYMRISE AG INH. O.N., VOLKSWAGEN AG, VONOVIA SE NA O.N., ZALANDO SE\n",
    "global company\n",
    "company='E.ON SE' # Currently, I have just a limited amount of companies in the database. The companies are: GitLab Inc., INFINEON TECHNOLOGIES AG, E.ON SE, Palantir Technologies Inc., "
   ]
  },
  {
   "cell_type": "markdown",
   "id": "7fd7c9f6-9971-4f75-b937-00c526baeeeb",
   "metadata": {},
   "source": [
    "### Calculate After-Tax Debt Cost"
   ]
  },
  {
   "cell_type": "code",
   "execution_count": 4,
   "id": "06697877-850e-4f14-a909-70ebde3ae197",
   "metadata": {},
   "outputs": [],
   "source": [
    "# To make web requests at the ECB SDMX 2.1 RESTful web service\n",
    "import requests\n",
    "\n",
    "# For use of the ECB API\n",
    "#from sdw_api import SDW_API\n",
    "\n",
    "# Standard libs for data manipulation\n",
    "import numpy as np\n",
    "import io\n",
    "import datetime\n",
    "from datetime import date\n",
    "import re\n",
    "import ValuationModel\n",
    "from ValuationModel.assist_functions import get_ir_data\n",
    "from ValuationModel.assist_functions import get_database_findata_year\n",
    "from ValuationModel.assist_functions import get_database_findata\n",
    "from ValuationModel.assist_functions import get_company_data\n",
    "from ValuationModel.assist_functions import get_wacc\n",
    "from ValuationModel.assist_functions import clearDataframes_and_get_fy\n",
    "from ValuationModel.fmp import get_index_table\n",
    "from ValuationModel.fmp import get_beta\n",
    "from config.api import MY_API_KEY"
   ]
  },
  {
   "cell_type": "code",
   "execution_count": 5,
   "id": "6a4b5097-5b89-4230-af17-5dc19ac1368e",
   "metadata": {},
   "outputs": [],
   "source": [
    "# Key List\n",
    "keys_list=pd.read_excel('assets/keys_IR.xlsx')['Keys'].tolist()"
   ]
  },
  {
   "cell_type": "code",
   "execution_count": 6,
   "id": "8c468cde-a5dc-40a2-adb7-77c8d5f2716d",
   "metadata": {},
   "outputs": [
    {
     "name": "stdout",
     "output_type": "stream",
     "text": [
      "2022-12-13 21:50:03,144 - urllib3.connectionpool - 975 - DEBUG - Starting new HTTPS connection (1): sdw-wsrest.ecb.europa.eu:443\n",
      "2022-12-13 21:50:04,114 - urllib3.connectionpool - 461 - DEBUG - https://sdw-wsrest.ecb.europa.eu:443 \"GET /service/data/MIR/M.U2.B.A2A.O.R.1.2240.EUR.N?format=genericdata&startPeriod=2022-01-01&endPeriod=2022-12-13 HTTP/1.1\" 200 None\n"
     ]
    }
   ],
   "source": [
    "# Set start period for time series as a string value, e.g., '2019-12-01' \n",
    "start='2022-01-01'\n",
    "interest_df=get_ir_data(keys_list, start)\n",
    "interest_df.to_csv(\"data/interest_df.csv\")"
   ]
  },
  {
   "cell_type": "code",
   "execution_count": 7,
   "id": "1690ba7c-2930-436b-8dce-136ee9ab89e9",
   "metadata": {},
   "outputs": [
    {
     "data": {
      "text/plain": [
       "0.02609425"
      ]
     },
     "execution_count": 7,
     "metadata": {},
     "output_type": "execute_result"
    }
   ],
   "source": [
    "debt_cost=(interest_df['OBS_VALUE'].iloc[-1])/100\n",
    "# German Corporate Tax rate (incl. solidarity surcharge) = 15.825%\n",
    "tax=0.15825\n",
    "at_debt_cost=debt_cost*(1-tax)\n",
    "at_debt_cost"
   ]
  },
  {
   "cell_type": "markdown",
   "id": "24c08235-6997-48a9-8286-05aa844bcd8d",
   "metadata": {},
   "source": [
    "### Calculate the Market Risk Premium (MRP)"
   ]
  },
  {
   "cell_type": "code",
   "execution_count": 8,
   "id": "eba335af-0c0f-40b4-8b5d-6a38e96db00a",
   "metadata": {},
   "outputs": [
    {
     "name": "stdout",
     "output_type": "stream",
     "text": [
      "2022-12-13 21:50:04,246 - urllib3.connectionpool - 975 - DEBUG - Starting new HTTPS connection (1): financialmodelingprep.com:443\n",
      "2022-12-13 21:50:05,671 - urllib3.connectionpool - 461 - DEBUG - https://financialmodelingprep.com:443 \"GET /api/v3/quotes/index?apikey=b8f5862cd32c671e67c7ebcbd122f8eb HTTP/1.1\" 200 None\n"
     ]
    }
   ],
   "source": [
    "index_table=get_index_table()"
   ]
  },
  {
   "cell_type": "code",
   "execution_count": 9,
   "id": "d45dcc03-60dc-4cc9-a69f-e747f041c718",
   "metadata": {},
   "outputs": [],
   "source": [
    "index_table.to_csv(\"data/index_list_overview.csv\")"
   ]
  },
  {
   "cell_type": "code",
   "execution_count": 10,
   "id": "7cb42167-30d7-48e3-aa0b-e24018835055",
   "metadata": {},
   "outputs": [],
   "source": [
    "#'^GSPC', '^FTSE', '^NDX', '^RUA', '^NYA'] # Dax Performance40, S&P500, FTSE100, Nasdaq100, Dow Jones"
   ]
  },
  {
   "cell_type": "code",
   "execution_count": 11,
   "id": "1026cde5-1afe-4b33-a823-e3c308f66243",
   "metadata": {},
   "outputs": [
    {
     "name": "stdout",
     "output_type": "stream",
     "text": [
      "2022-12-13 21:50:05,773 - urllib3.connectionpool - 975 - DEBUG - Starting new HTTPS connection (1): query2.finance.yahoo.com:443\n",
      "2022-12-13 21:50:05,919 - urllib3.connectionpool - 461 - DEBUG - https://query2.finance.yahoo.com:443 \"GET /v8/finance/chart/%5EGDAXI?period1=1262300400&period2=1670886000&interval=1d&includePrePost=False&events=div%2Csplits HTTP/1.1\" 200 None\n",
      "\n",
      "The market risk premium (MRP):\n",
      "-------------------------------\n",
      " 0.04829644500152576\n"
     ]
    }
   ],
   "source": [
    "# Retrieve Data on the DAX Performance Index (i.e. the 40 stocks which I have in my database)\n",
    "dax_perf = yf.Ticker('^GDAXI')\n",
    "# Get most recent week’s minute data\n",
    "today = date.today()        # get the date of today\n",
    "today_formatted = today.strftime(\"%Y-%m-%d\")\n",
    "# As the most historical data we have in our PostgreSQL database is at most back until FY2018 we set the start period to '2018-01-01' --> ignore! This resulted in a negative MRP!\n",
    "dax_perf_prices = dax_perf.history(start='2010-01-01', end=today_formatted)\n",
    "dax_perf_closep=dax_perf_prices[['Close']]\n",
    "#--- ANNUALIZE THE DAILY RETURNS --------------------------------------------------------------#\n",
    "days=len(dax_perf_closep)\n",
    "# Total Return over the period\n",
    "total_return=(dax_perf_closep.iloc[-1] - dax_perf_closep.iloc[0]) / dax_perf_closep.iloc[0]\n",
    "annualized_return=((1+total_return)**(252/days))-1\n",
    "#--- RISK-FREE RATE = ECB MAIN REFINANCING RATE -----------------------------------------------#\n",
    "rfr=0.02\n",
    "mrp=float(annualized_return-rfr)\n",
    "print(\"\\nThe market risk premium (MRP):\\n-------------------------------\\n\",mrp)"
   ]
  },
  {
   "cell_type": "markdown",
   "id": "2f6345ad-2810-4137-9ec9-146a426a94eb",
   "metadata": {},
   "source": [
    "### Retrieve Fundamental Financial Data Tables from our PostgreSQL Database (see Pt. I)"
   ]
  },
  {
   "cell_type": "code",
   "execution_count": 12,
   "id": "46574e3e-05f0-4ea1-9d92-5f903187395a",
   "metadata": {},
   "outputs": [],
   "source": [
    "#---- DATABASE MANAGEMENT TOOLS --------------#\n",
    "from sqlalchemy import create_engine\n",
    "import psycopg2\n",
    "import psycopg2.extras as extras\n",
    "\n",
    "#---- DATA MANIPULATION TOOLS ----------------#\n",
    "import pandas_datareader as dr\n",
    "\n",
    "#---- OWN MODULE IMPORTS --------------------#\n",
    "import config.pw"
   ]
  },
  {
   "cell_type": "code",
   "execution_count": 13,
   "id": "778b7bbe-ea25-4e3d-8a84-16088a3cd6a6",
   "metadata": {},
   "outputs": [],
   "source": [
    "# Set necessary url variables for the sqlalchemy create_engine() method.\n",
    "user='svenst89' # or default user 'postgres'\n",
    "password=config.pw.password # edit the password if you switch to the default user 'postgres'; I setup different passwords.\n",
    "host='localhost'\n",
    "port='5432'\n",
    "database='fundamentalsdb'"
   ]
  },
  {
   "cell_type": "code",
   "execution_count": 14,
   "id": "62069bc2-2fd9-4b9e-a6c0-05e7f851f95a",
   "metadata": {},
   "outputs": [
    {
     "name": "stdout",
     "output_type": "stream",
     "text": [
      "You have successfully created an engine object for your Postgres DB at localhost for user svenst89!\n"
     ]
    }
   ],
   "source": [
    "# Create an engine object as medium for database exchange with PostgreSQL\n",
    "def run_engine():\n",
    "    return create_engine(f\"postgresql://{user}:{password}@{host}:{port}/{database}\")\n",
    "if __name__=='__main__':\n",
    "    try:\n",
    "        global engine\n",
    "        engine=run_engine()\n",
    "        print(f\"You have successfully created an engine object for your Postgres DB at {host} for user {user}!\")\n",
    "    except Exception as ex:\n",
    "        print(\"Sorry your engine has not been created. Some exception has occurred. Please check and try it again!\\n\", ex)"
   ]
  },
  {
   "cell_type": "markdown",
   "id": "08baa96c-20ff-4700-a0fe-3de71ec6c79e",
   "metadata": {},
   "source": [
    "The following function retrieves our previously stored fundamental financial statement data from our **PostgreSQL** database with a simple _SQL query_ with a `WHERE` constraint. Later on we can use a for-loop to iterate across the companies, if we want to."
   ]
  },
  {
   "cell_type": "code",
   "execution_count": 15,
   "id": "c261a1c9-4fca-4ac9-9ed4-1ede89253a88",
   "metadata": {},
   "outputs": [
    {
     "name": "stdout",
     "output_type": "stream",
     "text": [
      "You have successfully retrieved the financial statement data for company 'E.ON SE'!\n"
     ]
    }
   ],
   "source": [
    "#===OPTIONAL: INSTEAD OF USING FUNCTION 'get_database_findata_year()' use the general function retrieving all available financial data and extracting a specific year from the whole dataframe\n",
    "bs, incs, cs = get_database_findata(company, engine)"
   ]
  },
  {
   "cell_type": "code",
   "execution_count": 16,
   "id": "211e59ce-54f3-4a18-bbb5-09ffa4449e4a",
   "metadata": {},
   "outputs": [
    {
     "name": "stdout",
     "output_type": "stream",
     "text": [
      "==> I revised the Balance Sheet and extracted financial data for Fiscal Year (FY) 2021-12-31.\n",
      "\n",
      "==> I revised the Income Statement and extracted financial data for Fiscal Year (FY) 2021-12-31.\n",
      "\n",
      "==> I revised the Cashflow Statement and extracted financial data for Fiscal Year (FY) 2021-12-31.\n",
      "\n"
     ]
    }
   ],
   "source": [
    "bs_2021=clearDataframes_and_get_fy(company, bs, 'bs', 2021)\n",
    "incs_2021=clearDataframes_and_get_fy(company, incs, 'incs', 2021)\n",
    "cs_2021=clearDataframes_and_get_fy(company, cs, 'cs', 2021)"
   ]
  },
  {
   "cell_type": "markdown",
   "id": "74e648d3-b95d-462f-9c00-467adcdbfedc",
   "metadata": {},
   "source": [
    "**<u>A brief Note on the Quality of the Data delivered by Financial Modeling Prep (FMP) API</u>**\n",
    "\n",
    "As for the quality of the data, I made a rough cross-check for the results that `FMP` is offering for **E.ON SE** in the **FY2021**: `FMP` reports a negative **Operating Income** of -11.6 EURbn, whereas E.ON SE reported in its Annual Report 2021 an EBIT (\"Ergebnis [...] vor Finanzergebnis und Steuern\") of +6.5 EURbn. I checked the Notes of the AR and found that E.ON SE reported in its EBIT special items, i.e. a positive one-off effect, of +45 EURbn from derivative financial income, which does clearly not belong to the usual core business of E.ON SE! If we were to subtract this positive one-off earnings effect \"as-if\" it would have not incurred, focusing merely on the real operating activities, the EBIT in the Annual Report would not look as \"rosy\" as presented initially.\n",
    "\n",
    "Assuming that there are other negative items that should have been added back, I trust the values given by `FMP` that the **Operating Income** was, indeed, negative. So, for my further analysis, I will focus on the 'Operating Income' and/or 'EBITDA' figures as presented by **FMP**."
   ]
  },
  {
   "cell_type": "markdown",
   "id": "4fb23af9-cd3e-409f-a8b3-6dee41a9d2b2",
   "metadata": {},
   "source": [
    "### Calculate the WACC as discount rate"
   ]
  },
  {
   "cell_type": "code",
   "execution_count": 17,
   "id": "c2ab104b-7f5c-4475-b2fb-1cba593dcffe",
   "metadata": {},
   "outputs": [
    {
     "name": "stdout",
     "output_type": "stream",
     "text": [
      "You have successfully retrieved the financial statement data for company 'E.ON SE'!\n",
      "==> I revised the Balance Sheet and extracted financial data for Fiscal Year (FY) 2021-12-31.\n",
      "\n",
      "You have successfully retrieved the company data for company '   id shortname   symbol               industry     sector currency  bs_id  is_id  cs_id\n",
      "0   3   E.ON SE  EOAN.DE  Utilities—Diversified  Utilities      EUR   2967   2071   2183'!\n",
      "2022-12-13 21:50:07,620 - urllib3.connectionpool - 975 - DEBUG - Starting new HTTPS connection (1): financialmodelingprep.com:443\n",
      "2022-12-13 21:50:08,300 - urllib3.connectionpool - 461 - DEBUG - https://financialmodelingprep.com:443 \"GET /api/v3/profile/EOAN.DE?apikey=b8f5862cd32c671e67c7ebcbd122f8eb HTTP/1.1\" 200 None\n"
     ]
    },
    {
     "data": {
      "text/plain": [
       "0.029371761186326825"
      ]
     },
     "execution_count": 17,
     "metadata": {},
     "output_type": "execute_result"
    }
   ],
   "source": [
    "wacc=get_wacc(company, 2021, rfr, mrp, at_debt_cost, engine)\n",
    "wacc"
   ]
  },
  {
   "cell_type": "markdown",
   "id": "af01a4f5-e3f5-4c8c-aa45-6c69ca29322a",
   "metadata": {},
   "source": [
    "### Build up the Forecast Model\n",
    "\n",
    "For each individual position in our forecast model we need to calculate CAGRs which we then use in order to extrapolate each position into the future and to calculate the **unlevered Free-Cashflow-to-the-Firm** for each future year. For reasons of simplicity we do not average between a terminal Enterprise Value based on an EV/EBITDA multiple and a Terminal Value that is based on a perpetual growth rate - we simply use the method based on a perpetual growth rate. Maybe I will change this in the future.\n",
    "\n",
    "- For the `perpetual (long-term growth rate)` to calculate the **terminal value** I use a 'tunable' variable, called `g`, which simply is a adjusted WACC rate, i.e. the WACC is adjusted manually by a hypothetical number that allows to reach a 'reasonable' terminal value. If you would take the simple cagr of the revenue development over the last years, you would receive - in most cases - astronomical valuations (it escalates exponentially quite quickly!)\n",
    "\n",
    "- For 'EBIT' we use `operatingIncomeRatio` from the Income Statement as delivered by FMP and the related average over the last available years and apply it on the extrapolated revenues.\n",
    "\n",
    "- For 'Cash Taxes' in order to calculate `NOPAT (Net Operating Profit After Tax)` we use the defined tax rate of _15%_ of the German Tax system\n",
    "\n",
    "- For 'D&A' we use `depreciationAndAmortization` as given in the Income Statement data of FMP, for 'Capex' we use `capitalExpenditure` and for 'Changes in Net Working Capital' we use `changeInWorkingCapital` from the CF Statement as delivered by FMP as a rough estimate. Then we calculate **5-year moving averages** for these items and use the for the calculation of the forcasts.\n",
    "\n",
    "Additionally, we extract the **net debt value** as given by `FMP` for the current fiscal year in order to calculate the **intrinsic Enterprise Value**."
   ]
  },
  {
   "cell_type": "code",
   "execution_count": 18,
   "id": "b5ee4da3-1803-475d-b8d2-6fc88834240d",
   "metadata": {},
   "outputs": [
    {
     "data": {
      "text/html": [
       "<div>\n",
       "<style scoped>\n",
       "    .dataframe tbody tr th:only-of-type {\n",
       "        vertical-align: middle;\n",
       "    }\n",
       "\n",
       "    .dataframe tbody tr th {\n",
       "        vertical-align: top;\n",
       "    }\n",
       "\n",
       "    .dataframe thead th {\n",
       "        text-align: right;\n",
       "    }\n",
       "</style>\n",
       "<table border=\"1\" class=\"dataframe\">\n",
       "  <thead>\n",
       "    <tr style=\"text-align: right;\">\n",
       "      <th></th>\n",
       "      <th>id</th>\n",
       "      <th>shortname</th>\n",
       "      <th>date</th>\n",
       "      <th>item</th>\n",
       "      <th>value</th>\n",
       "      <th>company_id</th>\n",
       "    </tr>\n",
       "  </thead>\n",
       "  <tbody>\n",
       "    <tr>\n",
       "      <th>7</th>\n",
       "      <td>1154</td>\n",
       "      <td>E.ON SE</td>\n",
       "      <td>2021-12-31</td>\n",
       "      <td>revenue</td>\n",
       "      <td>77358000000</td>\n",
       "      <td>3</td>\n",
       "    </tr>\n",
       "    <tr>\n",
       "      <th>44</th>\n",
       "      <td>1191</td>\n",
       "      <td>E.ON SE</td>\n",
       "      <td>2020-12-31</td>\n",
       "      <td>revenue</td>\n",
       "      <td>60944000000</td>\n",
       "      <td>3</td>\n",
       "    </tr>\n",
       "    <tr>\n",
       "      <th>81</th>\n",
       "      <td>1228</td>\n",
       "      <td>E.ON SE</td>\n",
       "      <td>2019-12-31</td>\n",
       "      <td>revenue</td>\n",
       "      <td>41003000000</td>\n",
       "      <td>3</td>\n",
       "    </tr>\n",
       "    <tr>\n",
       "      <th>118</th>\n",
       "      <td>1265</td>\n",
       "      <td>E.ON SE</td>\n",
       "      <td>2018-12-31</td>\n",
       "      <td>revenue</td>\n",
       "      <td>29565000000</td>\n",
       "      <td>3</td>\n",
       "    </tr>\n",
       "    <tr>\n",
       "      <th>155</th>\n",
       "      <td>1302</td>\n",
       "      <td>E.ON SE</td>\n",
       "      <td>2017-12-31</td>\n",
       "      <td>revenue</td>\n",
       "      <td>37965000000</td>\n",
       "      <td>3</td>\n",
       "    </tr>\n",
       "  </tbody>\n",
       "</table>\n",
       "</div>"
      ],
      "text/plain": [
       "       id shortname        date     item        value  company_id\n",
       "7    1154   E.ON SE  2021-12-31  revenue  77358000000           3\n",
       "44   1191   E.ON SE  2020-12-31  revenue  60944000000           3\n",
       "81   1228   E.ON SE  2019-12-31  revenue  41003000000           3\n",
       "118  1265   E.ON SE  2018-12-31  revenue  29565000000           3\n",
       "155  1302   E.ON SE  2017-12-31  revenue  37965000000           3"
      ]
     },
     "execution_count": 18,
     "metadata": {},
     "output_type": "execute_result"
    }
   ],
   "source": [
    "#=== REVENUES: Get the revenues over the last years\n",
    "rev_df=incs.loc[incs['item']=='revenue']\n",
    "rev_df.head()"
   ]
  },
  {
   "cell_type": "code",
   "execution_count": 19,
   "id": "c2189d06-172a-4fa7-af47-a078608e001d",
   "metadata": {},
   "outputs": [
    {
     "data": {
      "text/plain": [
       "0.011906795688837901"
      ]
     },
     "execution_count": 19,
     "metadata": {},
     "output_type": "execute_result"
    }
   ],
   "source": [
    "#--- REVENUES: Get CAGR\n",
    "end_val=int(rev_df['value'].iloc[0])\n",
    "beg_val=int(rev_df['value'].iloc[-1])\n",
    "n=len(rev_df['date'])\n",
    "try:\n",
    "    rev_cagr=((end_val/beg_val)**(1/n))-1\n",
    "except:\n",
    "    print(\"Something went wrong with CAGR calculation! Maybe there are some negative values or zero values at beginning or end?!\")\n",
    "rev_cagr"
   ]
  },
  {
   "cell_type": "code",
   "execution_count": 20,
   "id": "d337a573-27a0-48b2-ba38-25f195b39221",
   "metadata": {},
   "outputs": [],
   "source": [
    "# Operating Income Margin average over the last years\n",
    "oir=incs.loc[incs['item']=='operatingIncomeRatio']\n",
    "oir_mean=pd.to_numeric(oir['value']).mean() # first convert string values in column to numeric float\n",
    "oi=(int(rev_df['value'].iloc[0]))*oir_mean"
   ]
  },
  {
   "cell_type": "code",
   "execution_count": 21,
   "id": "aaaf4427-7c66-4df2-9d23-8975b1b3a751",
   "metadata": {},
   "outputs": [],
   "source": [
    "#=== Depreciation & Amortization (D&A)\n",
    "da_df=incs.loc[incs['item']=='depreciationAndAmortization']\n",
    "#=== CAPEX\n",
    "cex_df=cs.loc[cs['item']=='capitalExpenditure']\n",
    "#=== Change in Working Capital (CWC)\n",
    "cwc_df=cs.loc[cs['item']=='changeInWorkingCapital']"
   ]
  },
  {
   "cell_type": "code",
   "execution_count": 22,
   "id": "8f600286-265a-49c9-b7a1-08168809148d",
   "metadata": {},
   "outputs": [],
   "source": [
    "#--- CAPEX: Get CAGR\n",
    "# drop potential rows containing zeros in 'value' column\n",
    "capex_df = cex_df.loc[cex_df['value'] != 0]\n",
    "end_val_cex=int(capex_df['value'].iloc[0])\n",
    "beg_val_cex=int(capex_df['value'].iloc[-1])\n",
    "n=len(capex_df['date'])\n",
    "try:\n",
    "    cex_cagr=((abs(end_val_cex)/abs(beg_val_cex))**(1/n))-1\n",
    "except:\n",
    "    print(\"Something went wrong with CAGR calculation! Maybe there are some negative values?!\")"
   ]
  },
  {
   "cell_type": "code",
   "execution_count": 23,
   "id": "2ae9e8d1-b95b-435c-b81e-873bd6894dbf",
   "metadata": {},
   "outputs": [],
   "source": [
    "#--- DELTA WC: Get CAGR\n",
    "# drop potential rows containing zeros in 'value' column\n",
    "wc_df = cwc_df.loc[cwc_df['value'] != 0]\n",
    "cwc_mean=pd.to_numeric(wc_df['value']).mean()\n",
    "end_val_cwc=int(wc_df['value'].iloc[0])\n",
    "beg_val_cwc=int(wc_df['value'].iloc[-1])\n",
    "n=len(wc_df['date'])\n",
    "try:\n",
    "    cwc_cagr=((abs(end_val_cwc)/abs(beg_val_cwc))**(1/n))-1\n",
    "except:\n",
    "    print(\"Something went wrong with CAGR calculation! Maybe there are some negative values?!\")"
   ]
  },
  {
   "cell_type": "code",
   "execution_count": 24,
   "id": "ac52a77f-d7a6-4e1a-ba6a-7c6eb251e8dd",
   "metadata": {},
   "outputs": [],
   "source": [
    "#=== NET DEBT\n",
    "mask_nd=bs_2021['item'].values=='netDebt'\n",
    "net_debt=float(bs_2021.loc[mask_nd, 'value'])"
   ]
  },
  {
   "cell_type": "markdown",
   "id": "46ab0958-5eb3-4d1c-b916-f8eddfb9d84f",
   "metadata": {},
   "source": [
    "#### Calculation Method\n",
    "\n",
    "We calculate the unlevered FCF as follows. Please find the picture below:\n",
    "\n",
    "![dcf](assets/dcf.png)\n",
    "\n",
    "The terminal value is calculate $uFCF_T*(1+g)/(WACC-g)$, where $g$ is the long-term growth rate (perpetual growth rate) and $uFCF_T$ is the last period uFCF."
   ]
  },
  {
   "cell_type": "code",
   "execution_count": 25,
   "id": "2c4926ac-36e2-4bb9-8aa7-f1875956bbf0",
   "metadata": {},
   "outputs": [
    {
     "data": {
      "text/html": [
       "<div>\n",
       "<style scoped>\n",
       "    .dataframe tbody tr th:only-of-type {\n",
       "        vertical-align: middle;\n",
       "    }\n",
       "\n",
       "    .dataframe tbody tr th {\n",
       "        vertical-align: top;\n",
       "    }\n",
       "\n",
       "    .dataframe thead th {\n",
       "        text-align: right;\n",
       "    }\n",
       "</style>\n",
       "<table border=\"1\" class=\"dataframe\">\n",
       "  <thead>\n",
       "    <tr style=\"text-align: right;\">\n",
       "      <th></th>\n",
       "      <th>5MA_D&amp;A</th>\n",
       "      <th>5MA_CAPEX</th>\n",
       "      <th>5MA_ChangeWC</th>\n",
       "    </tr>\n",
       "    <tr>\n",
       "      <th>date</th>\n",
       "      <th></th>\n",
       "      <th></th>\n",
       "      <th></th>\n",
       "    </tr>\n",
       "  </thead>\n",
       "  <tbody>\n",
       "    <tr>\n",
       "      <th>2019-12-31</th>\n",
       "      <td>2.238000e+09</td>\n",
       "      <td>-2.790600e+09</td>\n",
       "      <td>-1.970000e+08</td>\n",
       "    </tr>\n",
       "    <tr>\n",
       "      <th>2019-12-31</th>\n",
       "      <td>2.184600e+09</td>\n",
       "      <td>-2.823600e+09</td>\n",
       "      <td>-3.308000e+08</td>\n",
       "    </tr>\n",
       "    <tr>\n",
       "      <th>2020-12-31</th>\n",
       "      <td>2.464000e+09</td>\n",
       "      <td>-3.080800e+09</td>\n",
       "      <td>-4.560000e+08</td>\n",
       "    </tr>\n",
       "    <tr>\n",
       "      <th>2020-12-31</th>\n",
       "      <td>2.982200e+09</td>\n",
       "      <td>-3.497200e+09</td>\n",
       "      <td>-5.260000e+07</td>\n",
       "    </tr>\n",
       "    <tr>\n",
       "      <th>2021-12-31</th>\n",
       "      <td>3.451600e+09</td>\n",
       "      <td>-3.938600e+09</td>\n",
       "      <td>-2.216200e+09</td>\n",
       "    </tr>\n",
       "    <tr>\n",
       "      <th>2021-12-31</th>\n",
       "      <td>3.735600e+09</td>\n",
       "      <td>-4.187800e+09</td>\n",
       "      <td>-4.774600e+09</td>\n",
       "    </tr>\n",
       "  </tbody>\n",
       "</table>\n",
       "</div>"
      ],
      "text/plain": [
       "                 5MA_D&A     5MA_CAPEX  5MA_ChangeWC\n",
       "date                                                \n",
       "2019-12-31  2.238000e+09 -2.790600e+09 -1.970000e+08\n",
       "2019-12-31  2.184600e+09 -2.823600e+09 -3.308000e+08\n",
       "2020-12-31  2.464000e+09 -3.080800e+09 -4.560000e+08\n",
       "2020-12-31  2.982200e+09 -3.497200e+09 -5.260000e+07\n",
       "2021-12-31  3.451600e+09 -3.938600e+09 -2.216200e+09\n",
       "2021-12-31  3.735600e+09 -4.187800e+09 -4.774600e+09"
      ]
     },
     "execution_count": 25,
     "metadata": {},
     "output_type": "execute_result"
    }
   ],
   "source": [
    "#=== MOVING AVERAGES OF: DEPRECIATION&AMORTIZATION, CAPEX AND CHANGE IN WC\n",
    "#-------------------------------------------------------------------------\n",
    "# working capital moving average list\n",
    "wc_df_2 = cwc_df.loc[cwc_df['value'] != 0].sort_values(by='date', ascending=True)\n",
    "ma_cwc=wc_df_2['value'].rolling(window=5).mean()\n",
    "ma_cwc_list=ma_cwc.tolist()\n",
    "ma_cwc_df=pd.DataFrame(ma_cwc_list)\n",
    "# capital expenditure moving average\n",
    "capex_df_2 = cex_df.loc[cex_df['value'] != 0].sort_values(by='date', ascending=True)\n",
    "ma_cex=capex_df_2['value'].rolling(window=5).mean()\n",
    "ma_cex_list=ma_cex.tolist()\n",
    "ma_cex_df=pd.DataFrame(ma_cex_list)\n",
    "# D&A moving average\n",
    "dna_df_2 = da_df.loc[da_df['value'] != 0].sort_values(by='date', ascending=True)\n",
    "ma_dna=dna_df_2['value'].rolling(window=5).mean()\n",
    "ma_dna_list=ma_dna.tolist()\n",
    "ma_dna_df=pd.DataFrame(ma_dna_list)\n",
    "df_ma_frames=[ma_dna_df,ma_cex_df,ma_cwc_df]\n",
    "df_ma=pd.concat(df_ma_frames, axis=1)\n",
    "columns=['5MA_D&A', '5MA_CAPEX', '5MA_ChangeWC']\n",
    "df_ma.columns=columns\n",
    "df_ma.index=cwc_df['date'].sort_values(ascending=True)\n",
    "df_ma.tail(6)"
   ]
  },
  {
   "cell_type": "code",
   "execution_count": 54,
   "id": "3e3486ec-0c85-4109-87f1-73730449a24c",
   "metadata": {},
   "outputs": [],
   "source": [
    "# Long-term growth rate, g\n",
    "g=wacc-0.025\n",
    "# Now, make forecast list for UNLEVERED FREE CASHFLOW through which the random variables as defined above, \n",
    "# i.e. the variables and their items which calculate unlevered free cashflow, will flow\n",
    "def forecast_ufcf(last_rev, rev_cagr, margin_mean, tax, ma_dna_list, ma_cex_list, ma_cwc_list, wacc, g):\n",
    "    forecast_lst=[]\n",
    "    for i in range(6):\n",
    "        if i < 5:\n",
    "            ufcf_t=((last_rev*(1+rev_cagr)**(i+1))*margin_mean)*(1-tax)+ma_dna_list[i-6]+ma_cex_list[i-6]-ma_cwc_list[i-6]\n",
    "            forecast_lst.append(ufcf_t)\n",
    "        else:\n",
    "            tv=((((last_rev*(1+rev_cagr)**(i))*margin_mean)*(1-tax)+ma_dna_list[-2]+ma_cex_list[-2]-ma_cwc_list[-2])*(1+g))/(wacc-g)\n",
    "            forecast_lst.append(tv)\n",
    "    return forecast_lst"
   ]
  },
  {
   "cell_type": "code",
   "execution_count": 49,
   "id": "036cfa06-dd95-4729-af91-c7127e6da9bf",
   "metadata": {},
   "outputs": [
    {
     "data": {
      "text/plain": [
       "[173919879.03226328,\n",
       " 227624764.04507875,\n",
       " 381404720.035583,\n",
       " 86260640.8585701,\n",
       " 2284393431.0117803,\n",
       " 91775210141.91109]"
      ]
     },
     "execution_count": 49,
     "metadata": {},
     "output_type": "execute_result"
    }
   ],
   "source": [
    "forecast=forecast_ufcf(end_val, rev_cagr, oir_mean, tax, ma_dna_list, ma_cex_list, ma_cwc_list, wacc, g)\n",
    "forecast"
   ]
  },
  {
   "cell_type": "code",
   "execution_count": 50,
   "id": "cd67a4ba-3ef0-40d5-bbe2-58e47c499326",
   "metadata": {},
   "outputs": [
    {
     "data": {
      "text/plain": [
       "85828821367.07054"
      ]
     },
     "execution_count": 50,
     "metadata": {},
     "output_type": "execute_result"
    }
   ],
   "source": [
    "# Now calculate the Present Value of the Free Cash Flows and the terminal value\n",
    "# Function to discount the free cash flows and the terminal value\n",
    "# I changed the function a bit as compared to https://towardsdatascience.com/company-valuation-using-probabilistic-models-with-python-712e325964b7\n",
    "# because I calculated the terminal value already before in the forecast list!\n",
    "def discount(forecast, wacc):\n",
    "    discount_lst = []\n",
    "    for x,i in enumerate(forecast):\n",
    "        if x < 5:\n",
    "            discount_lst.append(i/(1+wacc)**(x+1))\n",
    "        else:\n",
    "            discount_lst.append(i*(1/(1+wacc)**5))\n",
    "    return sum(discount_lst)\n",
    "\n",
    "intrinsic_value=discount(forecast, wacc)-net_debt\n",
    "intrinsic_value"
   ]
  },
  {
   "cell_type": "markdown",
   "id": "b013bf2b-a2f6-4511-8a1c-4baf12fbd081",
   "metadata": {},
   "source": [
    "### Run Monte Carlo Simulation"
   ]
  },
  {
   "cell_type": "code",
   "execution_count": 51,
   "id": "cd1c6452-a30a-48ee-b1b9-91b327877fd9",
   "metadata": {},
   "outputs": [],
   "source": [
    "'''----// Run simulation: Monte Carlo //----'''\n",
    "iterations=1000\n",
    "hist_lst = []\n",
    "# the rolling averages remain  the same; just change the input parameters like cagrs, operating margin mean, wacc and g (long-term growth)\n",
    "for i in range(iterations):\n",
    "    cagr = np.random.normal(rev_cagr, 0.01)\n",
    "    margin = np.random.normal(oir_mean, 0.005)\n",
    "    long_term_rate = np.random.normal(g, 0.001)\n",
    "    discount_rate = np.random.normal(wacc, 0.001)\n",
    "    forecast = forecast_ufcf(end_val, cagr, margin, tax, ma_dna_list, ma_cex_list, ma_cwc_list, discount_rate, long_term_rate)\n",
    "    hist_lst.append(discount(forecast, discount_rate)-net_debt)\n",
    "hist_array = np.array(hist_lst)"
   ]
  },
  {
   "cell_type": "code",
   "execution_count": 52,
   "id": "3ccdcae5-b853-4fbd-8227-5bdd867cb138",
   "metadata": {},
   "outputs": [],
   "source": [
    "mean = hist_array.mean() # mean of the sampled point estimates\n",
    "standard_error = hist_array.std()/(iterations**(1/2)) # sample standard error\n",
    "\n",
    "lower_bound = mean-1.96*standard_error\n",
    "upper_bound = mean+1.96*standard_error"
   ]
  },
  {
   "cell_type": "code",
   "execution_count": 60,
   "id": "86e73dbb-3a1d-41f2-bb22-39480590c4ac",
   "metadata": {},
   "outputs": [
    {
     "data": {
      "image/png": "[encoded data removed]",
      "text/plain": [
       "<Figure size 432x288 with 1 Axes>"
      ]
     },
     "metadata": {
      "needs_background": "light"
     },
     "output_type": "display_data"
    }
   ],
   "source": [
    "plt.hist(hist_array, bins=50, align='mid', color = 'steelblue', edgecolor='black')\n",
    "plt.title('Sample Distribution ' + company);\n",
    "plt.xlabel('Intrinsic Enterprise Value in €bn');\n",
    "plt.ylabel('Frequency');\n",
    "plt.savefig('assets/mc_sample.png', bbox_inches='tight')\n",
    "plt.show()"
   ]
  },
  {
   "cell_type": "code",
   "execution_count": null,
   "id": "01e7ee83-8778-42c7-8e79-8d30c78a19c8",
   "metadata": {},
   "outputs": [],
   "source": []
  }
 ],
 "metadata": {
  "kernelspec": {
   "display_name": "DataScience",
   "language": "python",
   "name": "datascience"
  },
  "language_info": {
   "codemirror_mode": {
    "name": "ipython",
    "version": 3
   },
   "file_extension": ".py",
   "mimetype": "text/x-python",
   "name": "python",
   "nbconvert_exporter": "python",
   "pygments_lexer": "ipython3",
   "version": "3.7.3"
  }
 },
 "nbformat": 4,
 "nbformat_minor": 5
}
