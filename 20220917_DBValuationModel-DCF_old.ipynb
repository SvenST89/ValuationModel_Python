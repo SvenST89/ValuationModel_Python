{
 "cells": [
  {
   "cell_type": "markdown",
   "id": "47c44064-52f8-451c-9cb2-bc85a18497f0",
   "metadata": {},
   "source": [
    "# Building a Corporate Valuation Model with Python Pt. II: DCF Method"
   ]
  },
  {
   "cell_type": "markdown",
   "id": "d804b9bd-da01-44cd-94f6-43fc9b5643df",
   "metadata": {},
   "source": [
    "Having established the database, I will build a corporate valuation model identical to the methods given in [Brigham & Houston (\"Fundamentals of Financial Management\", 6th ed., 2009, South Western Cengage Learning, pp. 288 and pp. 306)](https://www.valorebooks.com/textbooks/fundamentals-of-financial-management-concise-edition-with-thomson-one-business-school-edition-6th-edition/9780324664553). Additionally, one can check the [this source](https://corporatefinanceinstitute.com/resources/knowledge/modeling/dcf-model-training-free-guide/), too, for further insights on the topic of corporate valuation."
   ]
  },
  {
   "cell_type": "markdown",
   "id": "36f3e2da-d245-4770-b051-328165004df3",
   "metadata": {},
   "source": [
    "Before starting the analysis we need some general assumptions and information on data in order to implement the DCF method for company valuation. We need the _after-tax cost of debt_ for the specific company as well as the _cost of its equity_. As for the debt it is quite cumbersome to get the individual firm´s cost of debt - either we would need to check the annual reports of that company or be lucky and find a free platform that offers such an information for any possible company. Both methods are difficult to implement in a dynamic and automated manner within a python script; I would need to build an extra scraper just to retrieve such an information for any possible firm. And I barely believe that there is a free source for that.\n",
    "\n",
    "<u><h4><font color=\"#ab4e52\">Cost of Debt Estimate</font></h4></u>\n",
    "\n",
    "Hence, I will **use the [central bank information on interest rates](https://sdw.ecb.europa.eu/browse.do?node=bbn2883) of new loans (>1 EURm) for non-financial corporations** and retrieve interest rate time series data from the `ECB SDM 2.1 RESTful web service` through making a **http get request**. Basically, it is like a function replicating the [sdw_api python package from the ECB](https://pypi.org/project/sdw-api/), but is more flexible in the sense that it does not throw an error for the retrieved data if different time series are imported, which was the case for the api package.\n",
    "\n",
    "The standard entrypoint for the **ECB SDMX 2.1 RESTful web service** is `https://sdw-wsrest.ecb.europa.eu/service/data/`.<br>\n",
    "We then make an empty list in which we will store each individual dataframe which we will have received from the https get request on basis of the time series keys in 'keys_list'. Specifically, I will use the **key 'MIR.M.U2.B.A2A.O.R.1.2240.EUR.N'** which identifies the data on `Bank interest rates - loans to corporations of over EUR 1M with an IRF period of over five & up to ten years (new business) - euro area`. Nonetheless, I will write a function that is general enough to iterate across a list of keys and get an average estimate of the interest rate level.\n",
    "\n",
    "In essence, the function `get_ir_data()` is general enough in order to retrieve ECB data for any key in the `key_list` (e.g. also keys for the yield curve or exchange rates).\n",
    "\n",
    "<u><h4><font color=\"#ab4e52\">Cost of Equity Estimate</font></h4></u>\n",
    "\n",
    "As for the cost of equity I will follow the <span style=\"color:orange\"><b>CAPM Approach</b></span>, i.e. use the current ECB interest rate for main refinancing operations (1.25%, 2022/09/17) as **risk-free rate** and calculate the **annualized market risk premium** from the historical price data of the respective stock index, in our case the 'DAX'. The **beta coefficient** of the individual company is retrieved from the `FMP API` while we use `yahoo finance API` for **historical price data of the respective index**."
   ]
  },
  {
   "cell_type": "markdown",
   "id": "021d4c01-5694-4add-97e1-cec96e56f61f",
   "metadata": {},
   "source": [
    "### Preliminary Definitions"
   ]
  },
  {
   "cell_type": "code",
   "execution_count": 1,
   "id": "f461c17c-5d9d-4eb1-a26d-8490efa10650",
   "metadata": {},
   "outputs": [],
   "source": [
    "#=============SET UP LOGGING ======================#\n",
    "import logging\n",
    "import sys\n",
    "# specifically for pyplot: https://stackoverflow.com/questions/56618739/matplotlib-throws-warning-message-because-of-findfont-python\n",
    "logging.getLogger('matplotlib').disabled = True\n",
    "\n",
    "logger=logging.getLogger()\n",
    "formatter = logging.Formatter('%(asctime)s - %(name)s - %(lineno)s - %(levelname)s - %(message)s')\n",
    "logger.setLevel(logging.DEBUG)\n",
    "\n",
    "# set logging handler in file\n",
    "fileHandler=logging.FileHandler(filename=\"log/cvm_main.log\", mode='w')\n",
    "fileHandler.setFormatter(formatter)\n",
    "fileHandler.setLevel(logging.DEBUG)\n",
    "logger.addHandler(fileHandler)\n",
    "\n",
    "# set logging handler in console\n",
    "consoleHandler=logging.StreamHandler(sys.stdout)\n",
    "consoleHandler.setFormatter(formatter)\n",
    "consoleHandler.setLevel(logging.INFO)\n",
    "logger.addHandler(consoleHandler)\n",
    "#===================================================#"
   ]
  },
  {
   "cell_type": "code",
   "execution_count": 2,
   "id": "47e5b42e-a953-4d95-a1e1-c901f4cdf2f6",
   "metadata": {},
   "outputs": [
    {
     "name": "stdout",
     "output_type": "stream",
     "text": [
      "2023-02-19 16:12:52,308 - numexpr.utils - 157 - INFO - NumExpr defaulting to 4 threads.\n"
     ]
    }
   ],
   "source": [
    "#--- PRELIMINARY IMPORTS -------------------------------------#\n",
    "import pandas as pd\n",
    "import yfinance as yf\n",
    "import matplotlib.pyplot as plt"
   ]
  },
  {
   "cell_type": "code",
   "execution_count": 3,
   "id": "20ed079e-55a9-4495-bc91-57785a09bcd2",
   "metadata": {},
   "outputs": [],
   "source": [
    "# define which company we want to focus on - This parameter is essential for the WebAPP we might build in the future --> with a dropdown value which is assigned to this variable\n",
    "# such that the user can choose many different companies\n",
    "# Possible companies:\n",
    "# ADIDAS AG, AIRBUS SE, ALLIANZ SE, BASF SE, \n",
    "# BAYER AG, BEIERSDORF AG O.N., BAYERISCHE MOTOREN WERKE AG, BRENNTAG SE NA O.N., \n",
    "# CONTINENTAL AG, COVESTRO AG, Delivery Hero SE Namens-Aktien, DEUTSCHE BANK AG, \n",
    "# DEUTSCHE BOERSE NA O.N., DEUTSCHE POST AG, DEUTSCHE TELEKOM AG, E.ON SE, FRESENIUS MEDICAL CARE AG & CO, \n",
    "# FRESENIUS SE&CO KGAA, HEIDELBERGCEMENT AG O.N., HELLOFRESH SE INH O.N., HENKEL AG&CO. KGAA, \n",
    "# INFINEON TECHNOLOGIES AG, LINDE PLC EO 0,001, MERCEDES-BENZ GROUP, MERCK KGAA, \n",
    "# MTU AERO ENGINES NA O.N., MUENCHENER RUECKVERSICHERUNGS A, PORSCHE AUTOM.HLDG VZO,\n",
    "# PUMA SE, Qiagen N.V., RWE AG INH O.N., SAP SE, SARTORIUS AG VZO O.N., SIEMENS AG, \n",
    "# SIEMENS ENERGY AG NA O.N., SIEMENS HEALTH.AG NA O.N., SYMRISE AG INH. O.N., VOLKSWAGEN AG, VONOVIA SE NA O.N., ZALANDO SE\n",
    "global company\n",
    "company='Siemens Healthineers AG' # Currently, I have just a limited amount of companies in the database. The companies are: GitLab Inc., INFINEON TECHNOLOGIES AG, E.ON SE, Palantir Technologies Inc.,\n",
    "\n",
    "# Now write a dictionary with the respective company as key and the Ticker as value\n",
    "import json\n",
    "  \n",
    "companyTicker_dict = {'E.ON SE': \"EOAN.DE\",\n",
    "                      'Infineon Technologies AG' :\"IFX.DE\",\n",
    "                     'GitLab Inc.': \"GTLB\",\n",
    "                     'Palantir Technologies Inc.': \"PLTR\",\n",
    "                     'PORSCHE AUTOM.HLDG VZO':\"PAH3.DE\",\n",
    "                     'Siemens Healthineers AG': \"SHL.DE\"}\n",
    "  \n",
    "with open('ticker_dict.txt', 'w') as convert_file:\n",
    "     convert_file.write(json.dumps(companyTicker_dict))\n",
    "ticker=companyTicker_dict[company]"
   ]
  },
  {
   "cell_type": "markdown",
   "id": "7fd7c9f6-9971-4f75-b937-00c526baeeeb",
   "metadata": {},
   "source": [
    "### Calculate After-Tax Debt Cost"
   ]
  },
  {
   "cell_type": "code",
   "execution_count": 4,
   "id": "06697877-850e-4f14-a909-70ebde3ae197",
   "metadata": {},
   "outputs": [],
   "source": [
    "# To make web requests at the ECB SDMX 2.1 RESTful web service\n",
    "import requests\n",
    "\n",
    "# For use of the ECB API\n",
    "#from sdw_api import SDW_API\n",
    "\n",
    "# Standard libs for data manipulation\n",
    "import numpy as np\n",
    "import scipy.stats as st\n",
    "import io\n",
    "import datetime\n",
    "from datetime import date\n",
    "import re\n",
    "import ValuationModel\n",
    "from ValuationModel.assist_functions import *\n",
    "from ValuationModel.fmp import *\n",
    "from config.api import MY_API_KEY"
   ]
  },
  {
   "cell_type": "code",
   "execution_count": 5,
   "id": "6a4b5097-5b89-4230-af17-5dc19ac1368e",
   "metadata": {},
   "outputs": [],
   "source": [
    "# Key List\n",
    "keys_list=pd.read_excel('assets/keys_IR.xlsx')['Keys'].tolist()"
   ]
  },
  {
   "cell_type": "code",
   "execution_count": 6,
   "id": "8c468cde-a5dc-40a2-adb7-77c8d5f2716d",
   "metadata": {},
   "outputs": [],
   "source": [
    "# Set start period for time series as a string value, e.g., '2019-12-01' \n",
    "start='2022-01-01'\n",
    "interest_df=get_ir_data(keys_list, start)\n",
    "interest_df.to_csv(\"data/interest_df.csv\")"
   ]
  },
  {
   "cell_type": "code",
   "execution_count": 7,
   "id": "1690ba7c-2930-436b-8dce-136ee9ab89e9",
   "metadata": {},
   "outputs": [
    {
     "data": {
      "text/plain": [
       "0.031228925"
      ]
     },
     "execution_count": 7,
     "metadata": {},
     "output_type": "execute_result"
    }
   ],
   "source": [
    "debt_cost=(interest_df['OBS_VALUE'].iloc[-1])/100\n",
    "# German Corporate Tax rate (incl. solidarity surcharge) = 15.825%\n",
    "tax=0.15825\n",
    "at_debt_cost=debt_cost*(1-tax)\n",
    "at_debt_cost"
   ]
  },
  {
   "cell_type": "markdown",
   "id": "24c08235-6997-48a9-8286-05aa844bcd8d",
   "metadata": {},
   "source": [
    "### Calculate Market Risk Premium (MRP)"
   ]
  },
  {
   "cell_type": "code",
   "execution_count": 8,
   "id": "eba335af-0c0f-40b4-8b5d-6a38e96db00a",
   "metadata": {},
   "outputs": [],
   "source": [
    "index_table=get_index_table()"
   ]
  },
  {
   "cell_type": "code",
   "execution_count": 9,
   "id": "d45dcc03-60dc-4cc9-a69f-e747f041c718",
   "metadata": {},
   "outputs": [],
   "source": [
    "index_table.to_csv(\"data/index_list_overview.csv\")"
   ]
  },
  {
   "cell_type": "code",
   "execution_count": 10,
   "id": "7cb42167-30d7-48e3-aa0b-e24018835055",
   "metadata": {},
   "outputs": [],
   "source": [
    "#'^GSPC', '^FTSE', '^NDX', '^RUA', '^NYA'] # Dax Performance40, S&P500, FTSE100, Nasdaq100, Dow Jones"
   ]
  },
  {
   "cell_type": "code",
   "execution_count": 11,
   "id": "63a7e047-6e92-4742-ae66-22d75d534d26",
   "metadata": {},
   "outputs": [
    {
     "name": "stdout",
     "output_type": "stream",
     "text": [
      "\n",
      "The market risk premium (MRP):\n",
      "-------------------------------\n",
      " 0.043672417856460505\n"
     ]
    }
   ],
   "source": [
    "# Retrieve Data on the DAX Performance Index (i.e. the 40 stocks which I have in my database)\n",
    "dax_perf = yf.Ticker('^GDAXI')\n",
    "# Get most recent week’s minute data\n",
    "today = date.today()        # get the date of today\n",
    "today_formatted = today.strftime(\"%Y-%m-%d\")\n",
    "dax_perf_prices = dax_perf.history(start='2010-01-01', end=today_formatted)\n",
    "dax_perf_closep=dax_perf_prices[['Close']]\n",
    "#--- ANNUALIZE THE DAILY RETURNS --------------------------------------------------------------#\n",
    "days=len(dax_perf_closep)\n",
    "# Total Return over the period\n",
    "total_return=(dax_perf_closep.iloc[-1] - dax_perf_closep.iloc[0]) / dax_perf_closep.iloc[0]\n",
    "annualized_return=((1+total_return)**(252/days))-1\n",
    "#--- RISK-FREE RATE = ECB MAIN REFINANCING RATE -----------------------------------------------#\n",
    "# Get ECB Main refinancing rate from SDW API.\n",
    "# ECB series key: FM.B.U2.EUR.4F.KR.MRR_FR.LEV\n",
    "ecb_r_key=['FM.B.U2.EUR.4F.KR.MRR_FR.LEV']\n",
    "ecb_rate_df=get_ir_data(ecb_r_key, start)\n",
    "rfr=float(ecb_rate_df['OBS_VALUE'].iloc[-1])/100\n",
    "mrp=float(annualized_return-rfr)\n",
    "print(\"\\nThe market risk premium (MRP):\\n-------------------------------\\n\",mrp)"
   ]
  },
  {
   "cell_type": "markdown",
   "id": "2f6345ad-2810-4137-9ec9-146a426a94eb",
   "metadata": {},
   "source": [
    "### Retrieve Fundamental Financial Data Tables from our PostgreSQL Database (see Pt. I)"
   ]
  },
  {
   "cell_type": "code",
   "execution_count": 12,
   "id": "46574e3e-05f0-4ea1-9d92-5f903187395a",
   "metadata": {},
   "outputs": [],
   "source": [
    "#---- DATABASE MANAGEMENT TOOLS --------------#\n",
    "from sqlalchemy import create_engine\n",
    "import psycopg2\n",
    "import psycopg2.extras as extras\n",
    "\n",
    "#---- DATA MANIPULATION TOOLS ----------------#\n",
    "import pandas_datareader as dr\n",
    "\n",
    "#---- OWN MODULE IMPORTS --------------------#\n",
    "import config.pw"
   ]
  },
  {
   "cell_type": "code",
   "execution_count": 13,
   "id": "778b7bbe-ea25-4e3d-8a84-16088a3cd6a6",
   "metadata": {},
   "outputs": [],
   "source": [
    "# Set necessary url variables for the sqlalchemy create_engine() method.\n",
    "user='svenst89' # or default user 'postgres'\n",
    "password=config.pw.password # edit the password if you switch to the default user 'postgres'; I setup different passwords.\n",
    "host='localhost'\n",
    "port='5432'\n",
    "database='fundamentalsdb'"
   ]
  },
  {
   "cell_type": "code",
   "execution_count": 14,
   "id": "62069bc2-2fd9-4b9e-a6c0-05e7f851f95a",
   "metadata": {},
   "outputs": [
    {
     "name": "stdout",
     "output_type": "stream",
     "text": [
      "You have successfully created an engine object for your Postgres DB at localhost for user svenst89!\n"
     ]
    }
   ],
   "source": [
    "# Create an engine object as medium for database exchange with PostgreSQL\n",
    "def run_engine():\n",
    "    return create_engine(f\"postgresql://{user}:{password}@{host}:{port}/{database}\")\n",
    "if __name__=='__main__':\n",
    "    try:\n",
    "        global engine\n",
    "        engine=run_engine()\n",
    "        print(f\"You have successfully created an engine object for your Postgres DB at {host} for user {user}!\")\n",
    "    except Exception as ex:\n",
    "        print(\"Sorry your engine has not been created. Some exception has occurred. Please check and try it again!\\n\", ex)"
   ]
  },
  {
   "cell_type": "markdown",
   "id": "08baa96c-20ff-4700-a0fe-3de71ec6c79e",
   "metadata": {},
   "source": [
    "The following function retrieves our previously stored fundamental financial statement data from our **PostgreSQL** database with a simple _SQL query_ with a `WHERE` constraint. Later on we can use a for-loop to iterate across the companies, if we want to."
   ]
  },
  {
   "cell_type": "code",
   "execution_count": 15,
   "id": "c261a1c9-4fca-4ac9-9ed4-1ede89253a88",
   "metadata": {},
   "outputs": [
    {
     "name": "stdout",
     "output_type": "stream",
     "text": [
      "You have successfully retrieved the financial statement data for company 'Siemens Healthineers AG'!\n"
     ]
    }
   ],
   "source": [
    "#===OPTIONAL: INSTEAD OF USING FUNCTION 'get_database_findata_year()' use the general function retrieving all available financial data and extracting a specific year from the whole dataframe\n",
    "bs, incs, cs = get_database_findata(company, engine)"
   ]
  },
  {
   "cell_type": "code",
   "execution_count": 16,
   "id": "211e59ce-54f3-4a18-bbb5-09ffa4449e4a",
   "metadata": {},
   "outputs": [
    {
     "name": "stdout",
     "output_type": "stream",
     "text": [
      "For company Siemens Healthineers AG the date 2021-12-31 seems to be the wrong fiscal year end. I continue trying FY date 2021-10-31...!\n",
      "\n",
      "For company Siemens Healthineers AG the date 2021-10-31 seems to be the wrong fiscal year end. I continue trying FY date 2021-09-30...!\n",
      "\n",
      "==> I revised the Balance Sheet and extracted financial data for Fiscal Year (FY) 2021-09-30.\n",
      "\n",
      "For company Siemens Healthineers AG the date 2021-12-31 seems to be the wrong fiscal year end. I continue trying FY date 2021-10-31...!\n",
      "\n",
      "For company Siemens Healthineers AG the date 2021-10-31 seems to be the wrong fiscal year end. I continue trying FY date 2021-09-30...!\n",
      "\n",
      "==> I revised the Income Statement and extracted financial data for Fiscal Year (FY) 2021-09-30.\n",
      "\n",
      "For company Siemens Healthineers AG the date 2021-12-31 seems to be the wrong fiscal year end. I continue trying FY date 2021-10-31...!\n",
      "\n",
      "For company Siemens Healthineers AG the date 2021-10-31 seems to be the wrong fiscal year end. I continue trying FY date 2021-09-30...!\n",
      "\n",
      "==> I revised the Cashflow Statement and extracted financial data for Fiscal Year (FY) 2021-09-30.\n",
      "\n"
     ]
    }
   ],
   "source": [
    "year=2021\n",
    "bs_y=clearDataframes_and_get_fy(company, bs, 'bs', year)\n",
    "incs_y=clearDataframes_and_get_fy(company, incs, 'incs', year)\n",
    "cs_y=clearDataframes_and_get_fy(company, cs, 'cs', year)"
   ]
  },
  {
   "cell_type": "markdown",
   "id": "74e648d3-b95d-462f-9c00-467adcdbfedc",
   "metadata": {},
   "source": [
    "**<u>A brief Note on the Quality of the Data delivered by Financial Modeling Prep (FMP) API</u>**\n",
    "\n",
    "As for the quality of the data, I made a rough cross-check for the results that `FMP` is offering for **E.ON SE** in the **FY2021**: `FMP` reports a negative **Operating Income** of -11.6 EURbn, whereas E.ON SE reported in its Annual Report 2021 an EBIT (\"Ergebnis [...] vor Finanzergebnis und Steuern\") of +6.5 EURbn. I checked the Notes of the AR and found that E.ON SE reported in its EBIT special items, i.e. a positive one-off effect, of +45 EURbn from derivative financial income, which does clearly not belong to the usual core business of E.ON SE! If we were to subtract this positive one-off earnings effect \"as-if\" it would have not incurred, focusing merely on the real operating activities, the EBIT in the Annual Report would not look as \"rosy\" as presented initially.\n",
    "\n",
    "Assuming that there are other negative items that should have been added back, I trust the values given by `FMP` that the **Operating Income** was, indeed, negative. So, for my further analysis, I will focus on the 'Operating Income' and/or 'EBITDA' figures as presented by **FMP**."
   ]
  },
  {
   "cell_type": "markdown",
   "id": "4fb23af9-cd3e-409f-a8b3-6dee41a9d2b2",
   "metadata": {},
   "source": [
    "### Calculate the WACC as discount rate"
   ]
  },
  {
   "cell_type": "code",
   "execution_count": 17,
   "id": "c2ab104b-7f5c-4475-b2fb-1cba593dcffe",
   "metadata": {},
   "outputs": [
    {
     "name": "stdout",
     "output_type": "stream",
     "text": [
      "You have successfully retrieved the financial statement data for company 'Siemens Healthineers AG'!\n",
      "For company Siemens Healthineers AG the date 2021-12-31 seems to be the wrong fiscal year end. I continue trying FY date 2021-10-31...!\n",
      "\n",
      "For company Siemens Healthineers AG the date 2021-10-31 seems to be the wrong fiscal year end. I continue trying FY date 2021-09-30...!\n",
      "\n",
      "==> I revised the Balance Sheet and extracted financial data for Fiscal Year (FY) 2021-09-30.\n",
      "\n",
      "You have successfully retrieved the company data for company '   id                shortname  symbol         industry      sector currency  bs_id  is_id  cs_id\n",
      "0   4  Siemens Healthineers AG  SHL.DE  Medical Devices  Healthcare      EUR   3444   2404   2534'!\n"
     ]
    },
    {
     "data": {
      "text/plain": [
       "0.04107819035009497"
      ]
     },
     "execution_count": 17,
     "metadata": {},
     "output_type": "execute_result"
    }
   ],
   "source": [
    "# The equity required rate of return is calculated and Beta is retrieved inside this function!\n",
    "wacc=get_wacc(company, year, rfr, mrp, at_debt_cost, engine)\n",
    "wacc"
   ]
  },
  {
   "cell_type": "markdown",
   "id": "af01a4f5-e3f5-4c8c-aa45-6c69ca29322a",
   "metadata": {},
   "source": [
    "### Build up the Forecast Model\n",
    "\n",
    "For each individual position in our forecast model we need to calculate CAGRs which we then use in order to extrapolate each position into the future and to calculate the **unlevered Free-Cashflow-to-the-Firm** for each future year. For reasons of simplicity we do not average between a terminal Enterprise Value based on an EV/EBITDA multiple and a Terminal Value that is based on a perpetual growth rate - we simply use the method based on a perpetual growth rate. Maybe I will change this in the future.\n",
    "\n",
    "- For the `perpetual (long-term growth rate)` to calculate the **terminal value** I use a 'tunable' variable, called `g`, which simply is a adjusted WACC rate, i.e. the WACC is adjusted manually by a hypothetical number that allows to reach a 'reasonable' terminal value. If you would take the simple cagr of the revenue development over the last years, you would receive - in most cases - astronomical valuations (it escalates exponentially quite quickly!)\n",
    "\n",
    "- For 'EBIT' we use `operatingIncomeRatio` from the Income Statement as delivered by FMP and the related average over the last available years and apply it on the extrapolated revenues.\n",
    "\n",
    "- For 'Cash Taxes' in order to calculate `NOPAT (Net Operating Profit After Tax)` we use the defined tax rate of _15%_ of the German Tax system\n",
    "\n",
    "- For 'D&A' we use `depreciationAndAmortization` as given in the Income Statement data of FMP, for 'Capex' we use `capitalExpenditure` and for 'Changes in Net Working Capital' we use `changeInWorkingCapital` from the CF Statement as delivered by FMP as a rough estimate. \n",
    "\n",
    "- Finally, I use seasonal ARIMA models for the latter variables to complete the forcasts.\n",
    "\n",
    "Additionally, we extract the **net debt value** as given by `FMP` for the current fiscal year in order to calculate the **intrinsic Enterprise Value**."
   ]
  },
  {
   "cell_type": "code",
   "execution_count": 18,
   "id": "b5ee4da3-1803-475d-b8d2-6fc88834240d",
   "metadata": {},
   "outputs": [],
   "source": [
    "#=== REVENUES: Get the revenues over the last years\n",
    "rev_df=incs.loc[incs['item']=='revenue'].drop_duplicates(['date', 'value'])\n",
    "revenues=pd.DataFrame(rev_df['value'])#.values\n",
    "#date=pd.DataFrame(rev_df['date'])\n",
    "comp_revs=revenues.set_index(rev_df['date'])#.drop_duplicates(['value'])\n",
    "comp_revs.to_csv(\"data/revenue.csv\")"
   ]
  },
  {
   "cell_type": "code",
   "execution_count": 19,
   "id": "bcee3847-0e82-4e8a-9ff0-932ffbe62250",
   "metadata": {},
   "outputs": [
    {
     "data": {
      "text/plain": [
       "0.06688467860085012"
      ]
     },
     "execution_count": 19,
     "metadata": {},
     "output_type": "execute_result"
    }
   ],
   "source": [
    "#--- REVENUES: Get CAGR\n",
    "end_val=float(rev_df['value'].iloc[0])\n",
    "beg_val=float(rev_df['value'].iloc[-1])\n",
    "n=len(rev_df['date'])\n",
    "try:\n",
    "    rev_cagr=((end_val/beg_val)**(1/n))-1\n",
    "except:\n",
    "    print(\"Something went wrong with CAGR calculation! Maybe there are some negative values or zero values at beginning or end?!\")\n",
    "rev_cagr"
   ]
  },
  {
   "cell_type": "code",
   "execution_count": 20,
   "id": "d337a573-27a0-48b2-ba38-25f195b39221",
   "metadata": {},
   "outputs": [],
   "source": [
    "# Operating Income Margin average over the last years\n",
    "oir=incs.loc[incs['item']=='operatingIncomeRatio'].drop_duplicates(['date', 'value'])\n",
    "oir_mean=pd.to_numeric(oir['value']).mean() # first convert string values in column to numeric float\n",
    "oi=(float(rev_df['value'].iloc[0]))*oir_mean"
   ]
  },
  {
   "cell_type": "code",
   "execution_count": 21,
   "id": "918e40df-005c-4722-936f-01f5ada302c4",
   "metadata": {},
   "outputs": [],
   "source": [
    "#=== Depreciation & Amortization (D&A)\n",
    "da_df=incs.loc[incs['item']=='depreciationAndAmortization'].drop_duplicates(['date', 'value'])\n",
    "#--- D&A time series ---------------------\n",
    "dna=pd.DataFrame(da_df['value'])#.values\n",
    "dna['value']=dna['value'].astype('float')\n",
    "comp_dna=dna.set_index(da_df['date'])\n",
    "comp_dna.to_csv(\"data/dna.csv\")\n",
    "#=== CAPEX\n",
    "cex_df=cs.loc[cs['item']=='capitalExpenditure'].drop_duplicates(['date', 'value'])\n",
    "#--- CAPEX time series -------------------\n",
    "cexd=pd.DataFrame(cex_df['value'])#.values\n",
    "cexd['value']=cexd['value'].astype('float')\n",
    "comp_cex=cexd.set_index(cex_df['date'])\n",
    "comp_cex.to_csv(\"data/cex.csv\")\n",
    "#=== Change in Working Capital (CWC)\n",
    "cwc_df=cs.loc[cs['item']=='changeInWorkingCapital'].drop_duplicates(['date', 'value'])\n",
    "#--- Change WC time series ---------------\n",
    "cwcd=pd.DataFrame(cwc_df['value'])#.values\n",
    "cwcd['value']=cwcd['value'].astype('float')\n",
    "comp_cwc=cwcd.set_index(cwc_df['date'])\n",
    "comp_cwc.to_csv(\"data/cwc.csv\")"
   ]
  },
  {
   "cell_type": "markdown",
   "id": "5794ee6b-7ca8-4d1e-bfd6-83967215095e",
   "metadata": {},
   "source": [
    "---"
   ]
  },
  {
   "cell_type": "markdown",
   "id": "12c73303-829a-42fd-a3a0-e7ee8226784a",
   "metadata": {},
   "source": [
    "<u><b>ARIMA Model for forecasting D&A, CAPEX and ChangeWC</b></u>"
   ]
  },
  {
   "cell_type": "markdown",
   "id": "7be98f89-5d16-423f-a9f8-846ef8e383ba",
   "metadata": {},
   "source": [
    "<b>D&A</b>"
   ]
  },
  {
   "cell_type": "code",
   "execution_count": 22,
   "id": "8c16e015-f6a0-4b05-9db1-814afc2fd0e2",
   "metadata": {},
   "outputs": [],
   "source": [
    "from statsmodels.tsa.stattools import adfuller\n",
    "from numpy import log\n",
    "from statsmodels.graphics.tsaplots import plot_acf, plot_pacf\n",
    "from arima import *\n",
    "#plt.rcParams.update({'figure.figsize':(9,7), 'figure.dpi':120})"
   ]
  },
  {
   "cell_type": "code",
   "execution_count": 23,
   "id": "0f81acee-fc53-4eeb-bc4e-71f815701416",
   "metadata": {},
   "outputs": [
    {
     "data": {
      "text/plain": [
       "<AxesSubplot:xlabel='date'>"
      ]
     },
     "execution_count": 23,
     "metadata": {},
     "output_type": "execute_result"
    },
    {
     "data": {
      "image/png": "[encoded data removed]",
      "text/plain": [
       "<Figure size 432x288 with 1 Axes>"
      ]
     },
     "metadata": {
      "needs_background": "light"
     },
     "output_type": "display_data"
    }
   ],
   "source": [
    "df_dna=comp_dna.sort_values(\"date\")\n",
    "df_dna.value.diff().diff().dropna().plot.line()"
   ]
  },
  {
   "cell_type": "code",
   "execution_count": 24,
   "id": "c38c4620-b697-4407-bafd-b7c82b46b56a",
   "metadata": {},
   "outputs": [
    {
     "name": "stdout",
     "output_type": "stream",
     "text": [
      "Calculating a simple moving average model as sample time series data is too short.\n"
     ]
    },
    {
     "name": "stderr",
     "output_type": "stream",
     "text": [
      "C:\\Users\\Test\\Anaconda3\\lib\\site-packages\\statsmodels\\tsa\\arima_model.py:472: FutureWarning: \n",
      "statsmodels.tsa.arima_model.ARMA and statsmodels.tsa.arima_model.ARIMA have\n",
      "been deprecated in favor of statsmodels.tsa.arima.model.ARIMA (note the .\n",
      "between arima and model) and\n",
      "statsmodels.tsa.SARIMAX. These will be removed after the 0.12 release.\n",
      "\n",
      "statsmodels.tsa.arima.model.ARIMA makes use of the statespace framework and\n",
      "is both well tested and maintained.\n",
      "\n",
      "To silence this warning and continue using ARMA and ARIMA until they are\n",
      "removed, use:\n",
      "\n",
      "import warnings\n",
      "warnings.filterwarnings('ignore', 'statsmodels.tsa.arima_model.ARMA',\n",
      "                        FutureWarning)\n",
      "warnings.filterwarnings('ignore', 'statsmodels.tsa.arima_model.ARIMA',\n",
      "                        FutureWarning)\n",
      "\n",
      "  warnings.warn(ARIMA_DEPRECATION_WARN, FutureWarning)\n",
      "C:\\Users\\Test\\Anaconda3\\lib\\site-packages\\statsmodels\\tsa\\base\\tsa_model.py:527: ValueWarning: No frequency information was provided, so inferred frequency A-SEP will be used.\n",
      "  % freq, ValueWarning)\n"
     ]
    },
    {
     "data": {
      "text/html": [
       "<table class=\"simpletable\">\n",
       "<caption>ARMA Model Results</caption>\n",
       "<tr>\n",
       "  <th>Dep. Variable:</th>       <td>value</td>      <th>  No. Observations:  </th>       <td>6</td>     \n",
       "</tr>\n",
       "<tr>\n",
       "  <th>Model:</th>            <td>ARMA(0, 1)</td>    <th>  Log Likelihood     </th>   <td>-117.836</td>  \n",
       "</tr>\n",
       "<tr>\n",
       "  <th>Method:</th>             <td>css-mle</td>     <th>  S.D. of innovations</th> <td>69613801.558</td>\n",
       "</tr>\n",
       "<tr>\n",
       "  <th>Date:</th>          <td>Sun, 19 Feb 2023</td> <th>  AIC                </th>    <td>241.673</td>  \n",
       "</tr>\n",
       "<tr>\n",
       "  <th>Time:</th>              <td>16:13:07</td>     <th>  BIC                </th>    <td>241.048</td>  \n",
       "</tr>\n",
       "<tr>\n",
       "  <th>Sample:</th>           <td>09-30-2015</td>    <th>  HQIC               </th>    <td>239.172</td>  \n",
       "</tr>\n",
       "<tr>\n",
       "  <th></th>                 <td>- 09-30-2020</td>   <th>                     </th>       <td> </td>     \n",
       "</tr>\n",
       "</table>\n",
       "<table class=\"simpletable\">\n",
       "<tr>\n",
       "       <td></td>          <th>coef</th>     <th>std err</th>      <th>z</th>      <th>P>|z|</th>  <th>[0.025</th>    <th>0.975]</th>  \n",
       "</tr>\n",
       "<tr>\n",
       "  <th>const</th>       <td> 6.152e+08</td> <td> 5.38e+07</td> <td>   11.439</td> <td> 0.000</td> <td>  5.1e+08</td> <td> 7.21e+08</td>\n",
       "</tr>\n",
       "<tr>\n",
       "  <th>ma.L1.value</th> <td>    0.9997</td> <td>    0.772</td> <td>    1.295</td> <td> 0.195</td> <td>   -0.513</td> <td>    2.512</td>\n",
       "</tr>\n",
       "</table>\n",
       "<table class=\"simpletable\">\n",
       "<caption>Roots</caption>\n",
       "<tr>\n",
       "    <td></td>   <th>            Real</th>  <th>         Imaginary</th> <th>         Modulus</th>  <th>        Frequency</th>\n",
       "</tr>\n",
       "<tr>\n",
       "  <th>MA.1</th> <td>          -1.0003</td> <td>          +0.0000j</td> <td>           1.0003</td> <td>           0.5000</td>\n",
       "</tr>\n",
       "</table>"
      ],
      "text/plain": [
       "<class 'statsmodels.iolib.summary.Summary'>\n",
       "\"\"\"\n",
       "                              ARMA Model Results                              \n",
       "==============================================================================\n",
       "Dep. Variable:                  value   No. Observations:                    6\n",
       "Model:                     ARMA(0, 1)   Log Likelihood                -117.836\n",
       "Method:                       css-mle   S.D. of innovations       69613801.558\n",
       "Date:                Sun, 19 Feb 2023   AIC                            241.673\n",
       "Time:                        16:13:07   BIC                            241.048\n",
       "Sample:                    09-30-2015   HQIC                           239.172\n",
       "                         - 09-30-2020                                         \n",
       "===============================================================================\n",
       "                  coef    std err          z      P>|z|      [0.025      0.975]\n",
       "-------------------------------------------------------------------------------\n",
       "const        6.152e+08   5.38e+07     11.439      0.000     5.1e+08    7.21e+08\n",
       "ma.L1.value     0.9997      0.772      1.295      0.195      -0.513       2.512\n",
       "                                    Roots                                    \n",
       "=============================================================================\n",
       "                  Real          Imaginary           Modulus         Frequency\n",
       "-----------------------------------------------------------------------------\n",
       "MA.1           -1.0003           +0.0000j            1.0003            0.5000\n",
       "-----------------------------------------------------------------------------\n",
       "\"\"\""
      ]
     },
     "execution_count": 24,
     "metadata": {},
     "output_type": "execute_result"
    }
   ],
   "source": [
    "dna_sarima, summary_dna=build_sarima(df_dna)\n",
    "summary_dna"
   ]
  },
  {
   "cell_type": "code",
   "execution_count": 25,
   "id": "10f8d6c0-c9ca-44bf-b13e-f0f920c03f76",
   "metadata": {
    "tags": []
   },
   "outputs": [],
   "source": [
    "def make_qqplot(df):\n",
    "    m = df.value.mean()\n",
    "    st = df.value.std()\n",
    "\n",
    "    # Standardize the data\n",
    "    df_norm=df.copy()\n",
    "    for i in range(0,df.shape[0],1):\n",
    "        df_norm.value.iloc[i]=(df.value.iloc[i]-m)/st\n",
    "\n",
    "    value_min=int(df_norm['value'].min())\n",
    "    value_max=int(df_norm['value'].max())\n",
    "    q=[]\n",
    "    j=0\n",
    "    for i in range(1,df_norm.shape[0]+1,1):\n",
    "        j=i/df_norm.shape[0]\n",
    "        q_temp = np.quantile(df_norm['value'], j)\n",
    "        q.append(q_temp)\n",
    "    #fig, ax = plt.subplots(figsize=(7,5))\n",
    "    plt.plot(q,sorted(df_norm.value),'o')\n",
    "    plt.plot(list(range(value_min,value_max)), list(range(value_min,value_max)), color='red')\n",
    "    plt.xlabel(\"Theoretical Quantile of standard normal distribution\")\n",
    "    plt.ylabel(\"Sample Z-score / Quantiles\")\n",
    "    plt.title(\"Normal Q-Q Plot\")\n",
    "    plt.grid()"
   ]
  },
  {
   "cell_type": "code",
   "execution_count": 26,
   "id": "aabb10b3-8c90-4c7b-9f58-7d18d7ced9da",
   "metadata": {},
   "outputs": [],
   "source": [
    "def diagnostic_plt(sarima_model, df):\n",
    "    if df.shape[0]<10:\n",
    "        # see arima.py: if the time series length is too short, I am buildin a simple moving average model with ARMA that has a different syntax for the residuals.\n",
    "        resid=pd.DataFrame(sarima_model.resid, columns=['value'])\n",
    "    else:\n",
    "        # make model residuals to dataframe\n",
    "        resid=pd.DataFrame(sarima_model.resid(), columns=['value'])\n",
    "    try:\n",
    "        sarima_model.plot_diagnostics(figsize=(7,5))\n",
    "        plt.show()\n",
    "    except AttributeError as a:\n",
    "        print(f'The following exception has occurred:\\n{a}\\n==> I will make individual diagnostic plots.')\n",
    "        import seaborn as sns\n",
    "        plt.rcParams.update({'figure.figsize':(7,5)})\n",
    "        # Q-Q Plot\n",
    "        plt.subplot(1, 2, 1) # row 1, col 2 index 1\n",
    "        fig=make_qqplot(resid)\n",
    "        # seaborn histogram\n",
    "        plt.subplot(1, 2, 2) # row 1, col 2 index 1\n",
    "        sns.distplot(resid, hist=True, kde=True, bins=3, color = 'blue', hist_kws={'edgecolor':'black'})\n",
    "        #plt.legend(prop={'size': 16}, title = 'Method')\n",
    "        plt.title('Histogram plus estimated density')\n",
    "        plt.ylabel('Density')\n",
    "        plt.show()\n",
    "    except ValueError as e:\n",
    "        print(f'The following exception has occurred:\\n{e}\\n==> I will make individual diagnostic plots.')\n",
    "        import seaborn as sns\n",
    "        plt.rcParams.update({'figure.figsize':(7,5)})\n",
    "        # Q-Q Plot\n",
    "        plt.subplot(1, 2, 1) # row 1, col 2 index 1\n",
    "        fig=make_qqplot(resid)\n",
    "        # seaborn histogram\n",
    "        plt.subplot(1, 2, 2) # row 1, col 2 index 1\n",
    "        sns.distplot(resid, hist=True, kde=True, bins=3, color = 'blue', hist_kws={'edgecolor':'black'})\n",
    "        #plt.legend(prop={'size': 16}, title = 'Method')\n",
    "        plt.title('Histogram plus estimated density')\n",
    "        plt.ylabel('Density')\n",
    "        plt.show()"
   ]
  },
  {
   "cell_type": "code",
   "execution_count": 27,
   "id": "d2098010-9d1e-4c37-be91-ddb13e5d61db",
   "metadata": {},
   "outputs": [
    {
     "name": "stdout",
     "output_type": "stream",
     "text": [
      "The following exception has occurred:\n",
      "'ARMAResults' object has no attribute 'plot_diagnostics'\n",
      "==> I will make individual diagnostic plots.\n"
     ]
    },
    {
     "name": "stderr",
     "output_type": "stream",
     "text": [
      "C:\\Users\\Test\\Anaconda3\\lib\\site-packages\\seaborn\\distributions.py:2619: FutureWarning: `distplot` is a deprecated function and will be removed in a future version. Please adapt your code to use either `displot` (a figure-level function with similar flexibility) or `histplot` (an axes-level function for histograms).\n",
      "  warnings.warn(msg, FutureWarning)\n"
     ]
    },
    {
     "data": {
      "image/png": "[encoded data removed]",
      "text/plain": [
       "<Figure size 504x360 with 2 Axes>"
      ]
     },
     "metadata": {
      "needs_background": "light"
     },
     "output_type": "display_data"
    }
   ],
   "source": [
    "diagnostic_plt(dna_sarima, df_dna)"
   ]
  },
  {
   "cell_type": "code",
   "execution_count": 28,
   "id": "93df02c1-d2a5-47f4-bfb3-e986e68ce50b",
   "metadata": {},
   "outputs": [],
   "source": [
    "# dna_forecast_series=sarima_forecast(dna_sarima, df_dna, num_periods=6, company=company)\n",
    "# dna_fc_list=dna_forecast_series.tolist()\n",
    "# dna_fc_list"
   ]
  },
  {
   "cell_type": "code",
   "execution_count": 29,
   "id": "2cf3e32a-5494-40b9-b363-8ea259594f1e",
   "metadata": {},
   "outputs": [
    {
     "ename": "KeyError",
     "evalue": "'None of [1, 2, 3, 4, 5, 6] are in the columns'",
     "output_type": "error",
     "traceback": [
      "\u001b[1;31m---------------------------------------------------------------------------\u001b[0m",
      "\u001b[1;31mKeyError\u001b[0m                                  Traceback (most recent call last)",
      "\u001b[1;32m<ipython-input-29-8123521755d8>\u001b[0m in \u001b[0;36m<module>\u001b[1;34m\u001b[0m\n\u001b[0;32m     13\u001b[0m     \u001b[1;31m#fc_series=pd.Series(index=index_of_fc)\u001b[0m\u001b[1;33m\u001b[0m\u001b[1;33m\u001b[0m\u001b[1;33m\u001b[0m\u001b[0m\n\u001b[0;32m     14\u001b[0m     \u001b[0mfc_df\u001b[0m\u001b[1;33m=\u001b[0m\u001b[0mpd\u001b[0m\u001b[1;33m.\u001b[0m\u001b[0mDataFrame\u001b[0m\u001b[1;33m(\u001b[0m\u001b[0mdna_sarima\u001b[0m\u001b[1;33m.\u001b[0m\u001b[0mpredict\u001b[0m\u001b[1;33m(\u001b[0m\u001b[0mstart\u001b[0m\u001b[1;33m=\u001b[0m\u001b[1;36m1\u001b[0m\u001b[1;33m,\u001b[0m \u001b[0mend\u001b[0m\u001b[1;33m=\u001b[0m\u001b[0mn_periods\u001b[0m\u001b[1;33m)\u001b[0m\u001b[1;33m)\u001b[0m\u001b[1;31m#, index=df_dna['date'].values)\u001b[0m\u001b[1;33m\u001b[0m\u001b[1;33m\u001b[0m\u001b[0m\n\u001b[1;32m---> 15\u001b[1;33m     \u001b[0mfc_df\u001b[0m\u001b[1;33m.\u001b[0m\u001b[0mset_index\u001b[0m\u001b[1;33m(\u001b[0m\u001b[0mindex_of_fc\u001b[0m\u001b[1;33m,\u001b[0m \u001b[0minplace\u001b[0m\u001b[1;33m=\u001b[0m\u001b[1;32mTrue\u001b[0m\u001b[1;33m)\u001b[0m\u001b[1;33m\u001b[0m\u001b[1;33m\u001b[0m\u001b[0m\n\u001b[0m\u001b[0;32m     16\u001b[0m     \u001b[0mfc_series\u001b[0m\u001b[1;33m=\u001b[0m\u001b[0mfc_df\u001b[0m\u001b[1;33m.\u001b[0m\u001b[0msqueeze\u001b[0m\u001b[1;33m(\u001b[0m\u001b[1;33m)\u001b[0m\u001b[1;33m\u001b[0m\u001b[1;33m\u001b[0m\u001b[0m\n\u001b[0;32m     17\u001b[0m     \u001b[1;31m# calculate confidence interval values manually and get it into a 2D array\u001b[0m\u001b[1;33m\u001b[0m\u001b[1;33m\u001b[0m\u001b[1;33m\u001b[0m\u001b[0m\n",
      "\u001b[1;32m~\\Anaconda3\\lib\\site-packages\\pandas\\util\\_decorators.py\u001b[0m in \u001b[0;36mwrapper\u001b[1;34m(*args, **kwargs)\u001b[0m\n\u001b[0;32m    309\u001b[0m                     \u001b[0mstacklevel\u001b[0m\u001b[1;33m=\u001b[0m\u001b[0mstacklevel\u001b[0m\u001b[1;33m,\u001b[0m\u001b[1;33m\u001b[0m\u001b[1;33m\u001b[0m\u001b[0m\n\u001b[0;32m    310\u001b[0m                 )\n\u001b[1;32m--> 311\u001b[1;33m             \u001b[1;32mreturn\u001b[0m \u001b[0mfunc\u001b[0m\u001b[1;33m(\u001b[0m\u001b[1;33m*\u001b[0m\u001b[0margs\u001b[0m\u001b[1;33m,\u001b[0m \u001b[1;33m**\u001b[0m\u001b[0mkwargs\u001b[0m\u001b[1;33m)\u001b[0m\u001b[1;33m\u001b[0m\u001b[1;33m\u001b[0m\u001b[0m\n\u001b[0m\u001b[0;32m    312\u001b[0m \u001b[1;33m\u001b[0m\u001b[0m\n\u001b[0;32m    313\u001b[0m         \u001b[1;32mreturn\u001b[0m \u001b[0mwrapper\u001b[0m\u001b[1;33m\u001b[0m\u001b[1;33m\u001b[0m\u001b[0m\n",
      "\u001b[1;32m~\\Anaconda3\\lib\\site-packages\\pandas\\core\\frame.py\u001b[0m in \u001b[0;36mset_index\u001b[1;34m(self, keys, drop, append, inplace, verify_integrity)\u001b[0m\n\u001b[0;32m   5444\u001b[0m \u001b[1;33m\u001b[0m\u001b[0m\n\u001b[0;32m   5445\u001b[0m         \u001b[1;32mif\u001b[0m \u001b[0mmissing\u001b[0m\u001b[1;33m:\u001b[0m\u001b[1;33m\u001b[0m\u001b[1;33m\u001b[0m\u001b[0m\n\u001b[1;32m-> 5446\u001b[1;33m             \u001b[1;32mraise\u001b[0m \u001b[0mKeyError\u001b[0m\u001b[1;33m(\u001b[0m\u001b[1;34mf\"None of {missing} are in the columns\"\u001b[0m\u001b[1;33m)\u001b[0m\u001b[1;33m\u001b[0m\u001b[1;33m\u001b[0m\u001b[0m\n\u001b[0m\u001b[0;32m   5447\u001b[0m \u001b[1;33m\u001b[0m\u001b[0m\n\u001b[0;32m   5448\u001b[0m         \u001b[1;32mif\u001b[0m \u001b[0minplace\u001b[0m\u001b[1;33m:\u001b[0m\u001b[1;33m\u001b[0m\u001b[1;33m\u001b[0m\u001b[0m\n",
      "\u001b[1;31mKeyError\u001b[0m: 'None of [1, 2, 3, 4, 5, 6] are in the columns'"
     ]
    }
   ],
   "source": [
    "from datetime import datetime\n",
    "from dateutil.relativedelta import relativedelta\n",
    "n_periods=6\n",
    "df_date=df_dna.reset_index()\n",
    "date_list=df_date['date'].values.tolist()\n",
    "datetime_object = datetime.strptime(date_list[-1], '%Y-%m-%d')\n",
    "new_dates=[]\n",
    "for i in range(1, n_periods+1):\n",
    "    #new_date=datetime_object+ relativedelta(years = i)\n",
    "    new_dates.append(i)#.strftime(\"%Y\")))\n",
    "index_of_fc = new_dates #pd.DatetimeIndex(new_dates)\n",
    "if df_dna.shape[0]<10:\n",
    "    #fc_series=pd.Series(index=index_of_fc)\n",
    "    fc_df=pd.DataFrame(dna_sarima.predict(start=1, end=n_periods))#, index=df_dna['date'].values)\n",
    "    fc_df.set_index(index_of_fc, inplace=True)\n",
    "    fc_series=fc_df.squeeze()\n",
    "    # calculate confidence interval values manually and get it into a 2D array\n",
    "    standard_error = st.sem(fc_series) # sample standard error\n",
    "    bigl=[]\n",
    "    for i in fc_series.tolist():\n",
    "        l=[]\n",
    "        # To find critical values for the t-distribution (in cases where n<30, we should not assume normality, hence go with the t-dist instead of the norm-dist and z-scores!)\n",
    "        # we can use scipy: https://stackoverflow.com/questions/67340028/how-to-use-t-ppf-which-are-the-arguments\n",
    "        # and https://www.geeksforgeeks.org/how-to-find-the-t-critical-value-in-python/\n",
    "        # Explanation of PPF: Probability Point Function\n",
    "        # The Probability Point Function or PPF is the inverse of the CDF. \n",
    "        # Specifically, the PPF returns the exact point where the probability of everything to the left is equal to y. \n",
    "        # This can be thought of as the percentile function since the PPF tells us the value of a given percentile of the data.\n",
    "        t_critical_val=st.t.ppf(q=(1-.05)/2,df=n_periods-1) # assuming 95% CI, two-tailed test\n",
    "        lvalue=i-(t_critical_val*standard_error)\n",
    "        uvalue=i+(t_critical_val*standard_error)\n",
    "        l.append(lvalue)\n",
    "        l.append(uvalue)\n",
    "        bigl.append(l)\n",
    "    confint=np.array(bigl)\n",
    "else:\n",
    "    # FORECAST\n",
    "    fc, confint = dna_sarima.predict(n_periods=n_periods, return_conf_int=True)\n",
    "    # make series for plotting purposes\n",
    "    fc_series=pd.Series(fc, index=index_of_fc)\n",
    "fc_series"
   ]
  },
  {
   "cell_type": "code",
   "execution_count": null,
   "id": "e8893c48-35c0-4f9c-a7dd-c431c6950cde",
   "metadata": {},
   "outputs": [],
   "source": [
    "lower_series=pd.DataFrame(confint[:, 0], index=fc_df.index)\n",
    "upper_series=pd.DataFrame(confint[:, 1], index=fc_df.index)\n",
    "fc_df[0].to_numpy()"
   ]
  },
  {
   "cell_type": "code",
   "execution_count": null,
   "id": "f9ddbf5a-27a6-4051-ad87-1c1925b3fd3e",
   "metadata": {},
   "outputs": [],
   "source": [
    "df_dna['value'].to_numpy()"
   ]
  },
  {
   "cell_type": "code",
   "execution_count": null,
   "id": "461c3be0-0693-474c-915b-d5aa7eb26350",
   "metadata": {},
   "outputs": [],
   "source": [
    "fig, ax = plt.subplots()\n",
    "ax.plot(date_list, df_dna['value'].to_numpy(), label='Actual Values', color='blue')\n",
    "ax.plot(fc_df[0].to_numpy(), label='Forecast Values', color = 'darkgreen')\n",
    "#plt.plot(df_dna)\n",
    "#plt.plot(fc_df, color='darkgreen')\n",
    "plt.fill_between(fc_df.index,\n",
    "                 lower_series,\n",
    "                 upper_series,\n",
    "                 color='k', alpha=.15)\n",
    "plt.title(f'{company}: Final {n_periods}-year Forecast')\n",
    "plt.xticks(rotation=90)\n",
    "plt.show()"
   ]
  },
  {
   "cell_type": "markdown",
   "id": "6cb5d9fb-ab20-4b08-9bb7-f49c68751854",
   "metadata": {},
   "source": [
    "<b>CAPEX</b>"
   ]
  },
  {
   "cell_type": "code",
   "execution_count": null,
   "id": "aa6ece1a-93dd-461a-ab85-a9c6a0e69e36",
   "metadata": {},
   "outputs": [],
   "source": [
    "df_cex=comp_cex.sort_values(\"date\")\n",
    "df_cex.value.diff().diff().dropna().plot.line()"
   ]
  },
  {
   "cell_type": "code",
   "execution_count": null,
   "id": "08653ec9-97cc-4a84-abe0-abb3ff061831",
   "metadata": {},
   "outputs": [],
   "source": [
    "capex_sarima, summary_cex=build_sarima(df_cex)\n",
    "summary_cex"
   ]
  },
  {
   "cell_type": "code",
   "execution_count": null,
   "id": "1191b4c6-fc9c-43a2-a5bc-1627bcc9d125",
   "metadata": {},
   "outputs": [],
   "source": [
    "diagnostic_plt(capex_sarima, df_cex)"
   ]
  },
  {
   "cell_type": "code",
   "execution_count": null,
   "id": "1905d0a0-e29b-4f7e-9903-fd4190b9d57b",
   "metadata": {},
   "outputs": [],
   "source": [
    "capex_forecast_series=sarima_forecast(capex_sarima, df_cex, num_periods=6, company=company)\n",
    "capex_fc_list=capex_forecast_series.tolist()\n",
    "capex_fc_list"
   ]
  },
  {
   "cell_type": "markdown",
   "id": "d503c2ef-8fe1-4c1d-b7a2-097aea277c6b",
   "metadata": {},
   "source": [
    "<b>Change in Working Capital (CWC)</b>"
   ]
  },
  {
   "cell_type": "code",
   "execution_count": null,
   "id": "22aff6e7-5fe8-4fb8-bb3e-51247ce0b14d",
   "metadata": {},
   "outputs": [],
   "source": [
    "df_cwc=comp_cwc.sort_values(\"date\")\n",
    "df_cwc.value.diff().diff().dropna().plot.line()\n",
    "df_cwc"
   ]
  },
  {
   "cell_type": "code",
   "execution_count": null,
   "id": "234969a5-9b89-44bb-bee8-bcba0438c327",
   "metadata": {},
   "outputs": [],
   "source": [
    "cwc_sarima, summary_cwc=build_sarima(df_cwc)\n",
    "diagnostic_plt(cwc_sarima)"
   ]
  },
  {
   "cell_type": "code",
   "execution_count": null,
   "id": "d620b52d-abfa-4fcc-b174-8d5c194e6eef",
   "metadata": {},
   "outputs": [],
   "source": [
    "cwc_forecast_series=sarima_forecast(cwc_sarima, df_cwc, num_periods=6, company=company)\n",
    "cwc_fc_list"
   ]
  },
  {
   "cell_type": "markdown",
   "id": "61db903f-7d69-4db7-95e2-bb189703c08d",
   "metadata": {},
   "source": [
    "---"
   ]
  },
  {
   "cell_type": "code",
   "execution_count": null,
   "id": "24f8329a-dd26-4aa4-aa3d-444e3b343572",
   "metadata": {},
   "outputs": [],
   "source": [
    "#=== NET DEBT\n",
    "mask_nd=bs_y['item'].values=='netDebt'\n",
    "net_debt=round(float(bs_y.loc[mask_nd, 'value'])/1000,0)\n",
    "#=== CASH\n",
    "mask_cash=bs_y['item'].values=='cashAndShortTermInvestments'\n",
    "cash=round(float(bs_y.loc[mask_cash, 'value'])/1000, 0)"
   ]
  },
  {
   "cell_type": "markdown",
   "id": "46ab0958-5eb3-4d1c-b916-f8eddfb9d84f",
   "metadata": {},
   "source": [
    "#### Calculation Method\n",
    "\n",
    "We calculate the unlevered FCF as follows. Please find the picture below:\n",
    "\n",
    "![dcf](assets/dcf.png)\n",
    "\n",
    "The terminal value is calculate $uFCF_T*(1+g)/(WACC-g)$, where $g$ is the long-term growth rate (perpetual growth rate) and $uFCF_T$ is the last period uFCF."
   ]
  },
  {
   "cell_type": "code",
   "execution_count": null,
   "id": "2f358f21-d321-4a91-9e5e-c5038e9f6b14",
   "metadata": {},
   "outputs": [],
   "source": [
    "# Long-term growth rate, g\n",
    "g=(wacc-0.025)\n",
    "# Now, make forecast list for UNLEVERED FREE CASHFLOW through which the random variables as defined above, \n",
    "# i.e. the variables and their items which calculate unlevered free cashflow, will flow\n",
    "def forecast_ufcf(last_rev, rev_cagr, margin_mean, tax, dna_fc_list, capex_fc_list, cwc_fc_list, wacc, g):\n",
    "    forecast_lst=[]\n",
    "    for i in range(len(dna_fc_list)):\n",
    "        if i < len(dna_fc_list):\n",
    "            ufcf_t=round(float(((last_rev*(1+rev_cagr)**(i+1))*margin_mean)*(1-tax)+dna_fc_list[i]+capex_fc_list[i]-cwc_fc_list[i])/1000,0)\n",
    "            forecast_lst.append(ufcf_t)\n",
    "        else :\n",
    "            tv=round(float(((((last_rev*(1+rev_cagr)**(i))*margin_mean)*(1-tax)+dna_fc_list[i]+capex_fc_list[i]-cwc_fc_list[i])*(1+g))/(wacc-g))/1000,0)\n",
    "            forecast_lst.append(tv)\n",
    "    return forecast_lst"
   ]
  },
  {
   "cell_type": "code",
   "execution_count": null,
   "id": "036cfa06-dd95-4729-af91-c7127e6da9bf",
   "metadata": {},
   "outputs": [],
   "source": [
    "forecast=forecast_ufcf(end_val, rev_cagr, oir_mean, tax, dna_fc_list, capex_fc_list, cwc_fc_list, wacc, g)\n",
    "forecast"
   ]
  },
  {
   "cell_type": "code",
   "execution_count": null,
   "id": "cd67a4ba-3ef0-40d5-bbe2-58e47c499326",
   "metadata": {},
   "outputs": [],
   "source": [
    "# Now calculate the Present Value of the Free Cash Flows and the terminal value\n",
    "# Function to discount the free cash flows and the terminal value\n",
    "# I changed the function a bit as compared to https://towardsdatascience.com/company-valuation-using-probabilistic-models-with-python-712e325964b7\n",
    "# because I calculated the terminal value already before in the forecast list!\n",
    "def discount(forecast, wacc):\n",
    "    discount_lst = []\n",
    "    for x,i in enumerate(forecast):\n",
    "        if x < 5:\n",
    "            discount_lst.append(i/(1+wacc)**(x+1))\n",
    "        else:\n",
    "            discount_lst.append(i*(1/(1+wacc)**5))\n",
    "    return sum(discount_lst)\n",
    "intrinsic_value=round(float(discount(forecast, wacc)+cash-net_debt),0)\n",
    "intrinsic_value"
   ]
  },
  {
   "cell_type": "markdown",
   "id": "b013bf2b-a2f6-4511-8a1c-4baf12fbd081",
   "metadata": {},
   "source": [
    "### Run Monte Carlo Simulation"
   ]
  },
  {
   "cell_type": "code",
   "execution_count": null,
   "id": "cd1c6452-a30a-48ee-b1b9-91b327877fd9",
   "metadata": {},
   "outputs": [],
   "source": [
    "'''----// Run simulation: Monte Carlo //----'''\n",
    "iterations=1000\n",
    "hist_lst = []\n",
    "# the rolling averages remain  the same; just change the input parameters like cagrs, operating margin mean, wacc and g (long-term growth)\n",
    "for i in range(iterations):\n",
    "    cagr = np.random.normal(rev_cagr, 0.01)\n",
    "    margin = np.random.normal(oir_mean, 0.005)\n",
    "    long_term_rate = np.random.normal(g, 0.001)\n",
    "    discount_rate = np.random.normal(wacc, 0.001)\n",
    "    forecast = forecast_ufcf(end_val, cagr, margin, tax, dna_fc_list, capex_fc_list, cwc_fc_list, discount_rate, long_term_rate)\n",
    "    hist_lst.append(round(float(discount(forecast, discount_rate)+cash-net_debt),0))\n",
    "hist_array = np.array(hist_lst)"
   ]
  },
  {
   "cell_type": "code",
   "execution_count": null,
   "id": "3ccdcae5-b853-4fbd-8227-5bdd867cb138",
   "metadata": {},
   "outputs": [],
   "source": [
    "mean = hist_array.mean() # mean of the sampled point estimates\n",
    "standard_error = hist_array.std()/(iterations**(1/2)) # sample standard error\n",
    "\n",
    "lower_bound = mean-1.96*standard_error\n",
    "upper_bound = mean+1.96*standard_error"
   ]
  },
  {
   "cell_type": "code",
   "execution_count": null,
   "id": "86e73dbb-3a1d-41f2-bb22-39480590c4ac",
   "metadata": {},
   "outputs": [],
   "source": [
    "plt.hist(hist_array, bins=50, align='mid', color = 'steelblue', edgecolor='black')\n",
    "plt.title('Sample Distribution ' + company);\n",
    "plt.xlabel('Intrinsic Enterprise Value in €bn');\n",
    "plt.ylabel('Frequency');\n",
    "plt.savefig('assets/mc_sample.png', bbox_inches='tight')\n",
    "plt.show()"
   ]
  },
  {
   "cell_type": "code",
   "execution_count": null,
   "id": "72cba810-103a-4646-964c-20724a34debc",
   "metadata": {},
   "outputs": [],
   "source": [
    "outstanding_shares=get_profile_data(ticker, json_entry='outstandingShares', entry_point='shares')\n",
    "current_share_price=get_profile_data(ticker, json_entry='price', entry_point='profile')\n",
    "intrinsic_share_price=round(intrinsic_value/outstanding_shares,2)"
   ]
  },
  {
   "cell_type": "code",
   "execution_count": null,
   "id": "402e3797-1bfa-4e3b-8e54-f806af979482",
   "metadata": {},
   "outputs": [],
   "source": [
    "if current_share_price > intrinsic_share_price:\n",
    "    print(f'The company {company} seems to be overrated on the market. The market price exceeds the estimated intrinsic equity price per share:\\n--------------------------\\nMarket Price: {current_share_price}\\nIntrinsic Share Price: {intrinsic_share_price}\\n--------------------------')\n",
    "else:\n",
    "    print(f'The company {company} seems to be underrated on the market. The market price is below the estimated intrinsic equity price per share:\\n--------------------------\\nMarket Price: {current_share_price}\\nIntrinsic Share Price: {intrinsic_share_price}\\n--------------------------')"
   ]
  },
  {
   "cell_type": "code",
   "execution_count": null,
   "id": "2a1fb53b-c929-40e7-929c-a1d179c0cfb2",
   "metadata": {},
   "outputs": [],
   "source": []
  }
 ],
 "metadata": {
  "kernelspec": {
   "display_name": "DataScience",
   "language": "python",
   "name": "datascience"
  },
  "language_info": {
   "codemirror_mode": {
    "name": "ipython",
    "version": 3
   },
   "file_extension": ".py",
   "mimetype": "text/x-python",
   "name": "python",
   "nbconvert_exporter": "python",
   "pygments_lexer": "ipython3",
   "version": "3.7.3"
  }
 },
 "nbformat": 4,
 "nbformat_minor": 5
}
